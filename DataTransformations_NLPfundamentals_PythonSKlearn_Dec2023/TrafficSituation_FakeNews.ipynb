{
 "cells": [
  {
   "cell_type": "markdown",
   "id": "38b6419a",
   "metadata": {},
   "source": "# Traffic Situation \n"
  },
  {
   "cell_type": "markdown",
   "id": "cd167eff",
   "metadata": {},
   "source": ""
  },
  {
   "cell_type": "code",
   "execution_count": 123,
   "id": "173e72c3",
   "metadata": {},
   "outputs": [],
   "source": [
    "import warnings\n",
    "warnings.filterwarnings('ignore')"
   ]
  },
  {
   "cell_type": "markdown",
   "id": "d21fcea6",
   "metadata": {},
   "source": "## les conditions de circulation\n"
  },
  {
   "cell_type": "markdown",
   "id": "6baffc55",
   "metadata": {},
   "source": "#### 1 : Import"
  },
  {
   "cell_type": "code",
   "execution_count": 145,
   "id": "7ad438f5",
   "metadata": {},
   "outputs": [
    {
     "data": {
      "text/html": [
       "<div>\n",
       "<style scoped>\n",
       "    .dataframe tbody tr th:only-of-type {\n",
       "        vertical-align: middle;\n",
       "    }\n",
       "\n",
       "    .dataframe tbody tr th {\n",
       "        vertical-align: top;\n",
       "    }\n",
       "\n",
       "    .dataframe thead th {\n",
       "        text-align: right;\n",
       "    }\n",
       "</style>\n",
       "<table border=\"1\" class=\"dataframe\">\n",
       "  <thead>\n",
       "    <tr style=\"text-align: right;\">\n",
       "      <th></th>\n",
       "      <th>Time</th>\n",
       "      <th>Date</th>\n",
       "      <th>Day of the week</th>\n",
       "      <th>CarCount</th>\n",
       "      <th>BikeCount</th>\n",
       "      <th>BusCount</th>\n",
       "      <th>TruckCount</th>\n",
       "      <th>Total</th>\n",
       "      <th>Traffic Situation</th>\n",
       "    </tr>\n",
       "  </thead>\n",
       "  <tbody>\n",
       "    <tr>\n",
       "      <th>0</th>\n",
       "      <td>1:00:00 AM</td>\n",
       "      <td>1</td>\n",
       "      <td>Wednesday</td>\n",
       "      <td>13</td>\n",
       "      <td>2</td>\n",
       "      <td>1.0</td>\n",
       "      <td>26</td>\n",
       "      <td>42</td>\n",
       "      <td>normal</td>\n",
       "    </tr>\n",
       "    <tr>\n",
       "      <th>1</th>\n",
       "      <td>1:00:00 PM</td>\n",
       "      <td>1</td>\n",
       "      <td>Wednesday</td>\n",
       "      <td>40</td>\n",
       "      <td>9</td>\n",
       "      <td>5.0</td>\n",
       "      <td>20</td>\n",
       "      <td>74</td>\n",
       "      <td>normal</td>\n",
       "    </tr>\n",
       "    <tr>\n",
       "      <th>2</th>\n",
       "      <td>1:15:00 AM</td>\n",
       "      <td>1</td>\n",
       "      <td>Wednesday</td>\n",
       "      <td>15</td>\n",
       "      <td>3</td>\n",
       "      <td>NaN</td>\n",
       "      <td>32</td>\n",
       "      <td>50</td>\n",
       "      <td>normal</td>\n",
       "    </tr>\n",
       "    <tr>\n",
       "      <th>3</th>\n",
       "      <td>1:15:00 PM</td>\n",
       "      <td>1</td>\n",
       "      <td>Wednesday</td>\n",
       "      <td>64</td>\n",
       "      <td>19</td>\n",
       "      <td>22.0</td>\n",
       "      <td>12</td>\n",
       "      <td>117</td>\n",
       "      <td>normal</td>\n",
       "    </tr>\n",
       "    <tr>\n",
       "      <th>4</th>\n",
       "      <td>1:30:00 AM</td>\n",
       "      <td>1</td>\n",
       "      <td>Wednesday</td>\n",
       "      <td>15</td>\n",
       "      <td>0</td>\n",
       "      <td>1.0</td>\n",
       "      <td>13</td>\n",
       "      <td>29</td>\n",
       "      <td>normal</td>\n",
       "    </tr>\n",
       "  </tbody>\n",
       "</table>\n",
       "</div>"
      ],
      "text/plain": [
       "         Time  Date Day of the week  CarCount  BikeCount  BusCount  \\\n",
       "0  1:00:00 AM     1       Wednesday        13          2       1.0   \n",
       "1  1:00:00 PM     1       Wednesday        40          9       5.0   \n",
       "2  1:15:00 AM     1       Wednesday        15          3       NaN   \n",
       "3  1:15:00 PM     1       Wednesday        64         19      22.0   \n",
       "4  1:30:00 AM     1       Wednesday        15          0       1.0   \n",
       "\n",
       "   TruckCount  Total Traffic Situation  \n",
       "0          26     42            normal  \n",
       "1          20     74            normal  \n",
       "2          32     50            normal  \n",
       "3          12    117            normal  \n",
       "4          13     29            normal  "
      ]
     },
     "execution_count": 145,
     "metadata": {},
     "output_type": "execute_result"
    }
   ],
   "source": [
    "import pandas as pd\n",
    "\n",
    "df_traffic = pd.read_csv('./data/Traffic.csv')\n",
    "df_traffic.head()"
   ]
  },
  {
   "cell_type": "markdown",
   "id": "be0bab13",
   "metadata": {},
   "source": "#### 2 : Doublons"
  },
  {
   "cell_type": "code",
   "execution_count": 146,
   "id": "97a80edd",
   "metadata": {},
   "outputs": [
    {
     "name": "stdout",
     "output_type": "stream",
     "text": [
      "Le nombre de doublons est égal à 0\n"
     ]
    }
   ],
   "source": [
    "# y a t il des doublons\n",
    "dupliques = df_traffic.duplicated() # renvoie true or false pour chaque observation\n",
    "\n",
    "nb_doublons = dupliques.sum()\n",
    "\n",
    "print(f'Le nombre de doublons est égal à {nb_doublons}')\n",
    "\n",
    "# Il n' y a donc pas de doublons"
   ]
  },
  {
   "cell_type": "markdown",
   "id": "a7bf2aba",
   "metadata": {},
   "source": [
    "#### 3 : La variable du nombre de voiture (`CarCount`) : \n",
    "\n"
   ]
  },
  {
   "cell_type": "code",
   "execution_count": 147,
   "id": "adb8167b",
   "metadata": {},
   "outputs": [
    {
     "data": {
      "text/plain": [
       "count    2976.000000\n",
       "mean       69.508065\n",
       "std        58.007290\n",
       "min         0.000000\n",
       "25%        19.000000\n",
       "50%        64.000000\n",
       "75%       107.000000\n",
       "max      1460.000000\n",
       "Name: CarCount, dtype: float64"
      ]
     },
     "execution_count": 147,
     "metadata": {},
     "output_type": "execute_result"
    }
   ],
   "source": [
    "# principaux indicateurs avec describe()\n",
    "\n",
    "df_traffic['CarCount'].describe()\n"
   ]
  },
  {
   "cell_type": "code",
   "execution_count": 148,
   "id": "ec617cb1",
   "metadata": {},
   "outputs": [
    {
     "data": {
      "image/png": "[encoded data removed]",
      "text/plain": [
       "<Figure size 640x480 with 1 Axes>"
      ]
     },
     "metadata": {},
     "output_type": "display_data"
    }
   ],
   "source": [
    "# Traçage du graphique boxplot\n",
    "import matplotlib.pyplot as plt\n",
    "plt.boxplot(df_traffic['CarCount'])\n",
    "plt.show()\n",
    "\n",
    "# Nous constatons la présence de valeurs aberrantes : deux valeurs très au dela du 3 ème quartile au regard de l'intervalle interquartile"
   ]
  },
  {
   "cell_type": "code",
   "execution_count": 149,
   "id": "88cff27b",
   "metadata": {},
   "outputs": [
    {
     "name": "stdout",
     "output_type": "stream",
     "text": [
      "Indices des lignes avec valeurs aberrantes pour 'CarCount':\n",
      "[157, 1013]\n"
     ]
    }
   ],
   "source": [
    "# identification et affichage des valeurs aberrantes :\n",
    "\n",
    "Q1 = df_traffic['CarCount'].quantile(0.25)\n",
    "Q3 = df_traffic['CarCount'].quantile(0.75)\n",
    "IQR = Q3 - Q1\n",
    "upper_bound = Q3 + (1.5 * IQR)\n",
    "lower_bound = Q1 - (1.5 * IQR)\n",
    "\n",
    "outliers = df_traffic[(df_traffic['CarCount'] < lower_bound) | (df_traffic['CarCount'] > upper_bound)]\n",
    "\n",
    "# Afficher les indices des lignes contenant des valeurs aberrantes\n",
    "print(\"Indices des lignes avec valeurs aberrantes pour 'CarCount':\")\n",
    "print(outliers.index.tolist())\n"
   ]
  },
  {
   "cell_type": "markdown",
   "id": "5706609d",
   "metadata": {},
   "source": [
    "**Réponse** : ..Nous constatons la présence de valeurs aberrantes : deux valeurs très au dela du 3 ème quartile au regard de l'intervalle interquartile.."
   ]
  },
  {
   "cell_type": "code",
   "execution_count": 150,
   "id": "55e59485",
   "metadata": {},
   "outputs": [],
   "source": [
    "# supression des valeurs aberrantes : \n",
    "filter = (df_traffic['CarCount'] >= lower_bound) & (df_traffic['CarCount'] <= upper_bound)\n",
    "\n",
    "df_traffic = df_traffic.loc[filter] "
   ]
  },
  {
   "cell_type": "code",
   "execution_count": 151,
   "id": "0a290cff",
   "metadata": {},
   "outputs": [
    {
     "data": {
      "image/png": "[encoded data removed]",
      "text/plain": [
       "<Figure size 640x480 with 1 Axes>"
      ]
     },
     "metadata": {},
     "output_type": "display_data"
    }
   ],
   "source": [
    "# Boxplot après suppression\n",
    "plt.boxplot(df_traffic['CarCount'])\n",
    "plt.show()"
   ]
  },
  {
   "cell_type": "markdown",
   "id": "d6b3ac75",
   "metadata": {},
   "source": "#### 4 : La variable du nombre de bus (`BusCount`): \n"
  },
  {
   "cell_type": "code",
   "execution_count": 152,
   "id": "5b6483c7",
   "metadata": {},
   "outputs": [
    {
     "name": "stdout",
     "output_type": "stream",
     "text": [
      "437\n"
     ]
    }
   ],
   "source": [
    "# Nombre de valeurs manquantes\n",
    "\n",
    "print(df_traffic['BusCount'].isnull().sum())\n",
    "\n",
    "\n"
   ]
  },
  {
   "cell_type": "markdown",
   "id": "79ca27e3",
   "metadata": {},
   "source": ""
  },
  {
   "cell_type": "code",
   "execution_count": 153,
   "id": "2e75019d",
   "metadata": {},
   "outputs": [],
   "source": [
    "# Remplacement par zéro\n",
    "df_traffic['BusCount'].fillna(0, inplace=True)"
   ]
  },
  {
   "cell_type": "markdown",
   "id": "3f08fecc",
   "metadata": {},
   "source": "#### 5 : La variable `Traffic Situation'\n"
  },
  {
   "cell_type": "code",
   "execution_count": 154,
   "id": "86ef2af1",
   "metadata": {},
   "outputs": [
    {
     "name": "stdout",
     "output_type": "stream",
     "text": [
      "14\n"
     ]
    }
   ],
   "source": [
    "# Vérification des valeurs manquantes\n",
    "print(df_traffic['Traffic Situation'].isnull().sum())\n",
    "\n"
   ]
  },
  {
   "cell_type": "markdown",
   "id": "5098c0a4",
   "metadata": {},
   "source": "**Commentaire** : cette variable contient 14 valeurs manquantes\n"
  },
  {
   "cell_type": "code",
   "execution_count": 155,
   "id": "db04611a",
   "metadata": {},
   "outputs": [
    {
     "name": "stdout",
     "output_type": "stream",
     "text": [
      "2960\n"
     ]
    }
   ],
   "source": [
    "# Suppression des lignes avec valeurs manquantes\n",
    "df_traffic.dropna(subset=['Traffic Situation'], inplace=True)\n",
    "print(df_traffic.shape[0])"
   ]
  },
  {
   "cell_type": "markdown",
   "id": "5da9b4b7",
   "metadata": {},
   "source": "**Commentaire** : Il reste 2960 observations ( 2976 - ( 2+14))"
  },
  {
   "cell_type": "markdown",
   "id": "d07b337e",
   "metadata": {},
   "source": "#### 6 : Normalisation des 4 variables de comptage (`CarCount', 'BikeCount`, `BusCount`, `TruckCount`) et stockage dans le data frame aux noms (`CarCount_Normed', 'BikeCount_Normed`, `BusCount_Normed`, `TruckCount_Normed`) "
  },
  {
   "cell_type": "code",
   "execution_count": 158,
   "id": "80fdbd24",
   "metadata": {},
   "outputs": [
    {
     "data": {
      "text/html": [
       "<div>\n",
       "<style scoped>\n",
       "    .dataframe tbody tr th:only-of-type {\n",
       "        vertical-align: middle;\n",
       "    }\n",
       "\n",
       "    .dataframe tbody tr th {\n",
       "        vertical-align: top;\n",
       "    }\n",
       "\n",
       "    .dataframe thead th {\n",
       "        text-align: right;\n",
       "    }\n",
       "</style>\n",
       "<table border=\"1\" class=\"dataframe\">\n",
       "  <thead>\n",
       "    <tr style=\"text-align: right;\">\n",
       "      <th></th>\n",
       "      <th>Date</th>\n",
       "      <th>CarCount</th>\n",
       "      <th>BikeCount</th>\n",
       "      <th>BusCount</th>\n",
       "      <th>TruckCount</th>\n",
       "      <th>Total</th>\n",
       "      <th>CarCount_Normed</th>\n",
       "      <th>BikeCount_Normed</th>\n",
       "      <th>BusCount_Normed</th>\n",
       "      <th>TruckCount_Normed</th>\n",
       "      <th>CarCount_Normed</th>\n",
       "      <th>BikeCount_Normed</th>\n",
       "      <th>BusCount_Normed</th>\n",
       "      <th>TruckCount_Normed</th>\n",
       "    </tr>\n",
       "  </thead>\n",
       "  <tbody>\n",
       "    <tr>\n",
       "      <th>count</th>\n",
       "      <td>2944.000000</td>\n",
       "      <td>2944.000000</td>\n",
       "      <td>2944.000000</td>\n",
       "      <td>2944.000000</td>\n",
       "      <td>2944.000000</td>\n",
       "      <td>2944.000000</td>\n",
       "      <td>2944.000000</td>\n",
       "      <td>2944.000000</td>\n",
       "      <td>2944.000000</td>\n",
       "      <td>2944.000000</td>\n",
       "      <td>2960.000000</td>\n",
       "      <td>2960.000000</td>\n",
       "      <td>2960.000000</td>\n",
       "      <td>2960.000000</td>\n",
       "    </tr>\n",
       "    <tr>\n",
       "      <th>mean</th>\n",
       "      <td>15.923234</td>\n",
       "      <td>68.496943</td>\n",
       "      <td>14.961617</td>\n",
       "      <td>15.231997</td>\n",
       "      <td>15.339334</td>\n",
       "      <td>114.033288</td>\n",
       "      <td>0.381120</td>\n",
       "      <td>0.149684</td>\n",
       "      <td>0.304851</td>\n",
       "      <td>0.383076</td>\n",
       "      <td>0.381188</td>\n",
       "      <td>0.149709</td>\n",
       "      <td>0.305216</td>\n",
       "      <td>0.383150</td>\n",
       "    </tr>\n",
       "    <tr>\n",
       "      <th>std</th>\n",
       "      <td>8.917881</td>\n",
       "      <td>45.868261</td>\n",
       "      <td>12.969405</td>\n",
       "      <td>14.320497</td>\n",
       "      <td>10.619480</td>\n",
       "      <td>60.162168</td>\n",
       "      <td>0.254787</td>\n",
       "      <td>0.129696</td>\n",
       "      <td>0.286078</td>\n",
       "      <td>0.265401</td>\n",
       "      <td>0.254683</td>\n",
       "      <td>0.129536</td>\n",
       "      <td>0.286225</td>\n",
       "      <td>0.265447</td>\n",
       "    </tr>\n",
       "    <tr>\n",
       "      <th>min</th>\n",
       "      <td>1.000000</td>\n",
       "      <td>0.000000</td>\n",
       "      <td>0.000000</td>\n",
       "      <td>0.000000</td>\n",
       "      <td>0.000000</td>\n",
       "      <td>21.000000</td>\n",
       "      <td>0.000000</td>\n",
       "      <td>0.000000</td>\n",
       "      <td>0.000000</td>\n",
       "      <td>0.000000</td>\n",
       "      <td>0.000000</td>\n",
       "      <td>0.000000</td>\n",
       "      <td>0.000000</td>\n",
       "      <td>0.000000</td>\n",
       "    </tr>\n",
       "    <tr>\n",
       "      <th>25%</th>\n",
       "      <td>8.000000</td>\n",
       "      <td>19.000000</td>\n",
       "      <td>5.000000</td>\n",
       "      <td>1.000000</td>\n",
       "      <td>6.000000</td>\n",
       "      <td>55.000000</td>\n",
       "      <td>0.105556</td>\n",
       "      <td>0.050000</td>\n",
       "      <td>0.020000</td>\n",
       "      <td>0.150000</td>\n",
       "      <td>0.105556</td>\n",
       "      <td>0.050000</td>\n",
       "      <td>0.020000</td>\n",
       "      <td>0.150000</td>\n",
       "    </tr>\n",
       "    <tr>\n",
       "      <th>50%</th>\n",
       "      <td>16.000000</td>\n",
       "      <td>64.000000</td>\n",
       "      <td>12.000000</td>\n",
       "      <td>12.000000</td>\n",
       "      <td>14.000000</td>\n",
       "      <td>108.000000</td>\n",
       "      <td>0.355556</td>\n",
       "      <td>0.120000</td>\n",
       "      <td>0.240000</td>\n",
       "      <td>0.350000</td>\n",
       "      <td>0.355556</td>\n",
       "      <td>0.120000</td>\n",
       "      <td>0.240000</td>\n",
       "      <td>0.350000</td>\n",
       "    </tr>\n",
       "    <tr>\n",
       "      <th>75%</th>\n",
       "      <td>24.000000</td>\n",
       "      <td>107.000000</td>\n",
       "      <td>22.000000</td>\n",
       "      <td>25.000000</td>\n",
       "      <td>24.000000</td>\n",
       "      <td>164.000000</td>\n",
       "      <td>0.594444</td>\n",
       "      <td>0.220000</td>\n",
       "      <td>0.500000</td>\n",
       "      <td>0.600000</td>\n",
       "      <td>0.594444</td>\n",
       "      <td>0.220000</td>\n",
       "      <td>0.500000</td>\n",
       "      <td>0.581250</td>\n",
       "    </tr>\n",
       "    <tr>\n",
       "      <th>max</th>\n",
       "      <td>31.000000</td>\n",
       "      <td>180.000000</td>\n",
       "      <td>100.000000</td>\n",
       "      <td>50.000000</td>\n",
       "      <td>40.000000</td>\n",
       "      <td>279.000000</td>\n",
       "      <td>1.000000</td>\n",
       "      <td>1.000000</td>\n",
       "      <td>1.000000</td>\n",
       "      <td>1.000000</td>\n",
       "      <td>1.000000</td>\n",
       "      <td>1.000000</td>\n",
       "      <td>1.000000</td>\n",
       "      <td>1.000000</td>\n",
       "    </tr>\n",
       "  </tbody>\n",
       "</table>\n",
       "</div>"
      ],
      "text/plain": [
       "              Date     CarCount    BikeCount     BusCount   TruckCount  \\\n",
       "count  2944.000000  2944.000000  2944.000000  2944.000000  2944.000000   \n",
       "mean     15.923234    68.496943    14.961617    15.231997    15.339334   \n",
       "std       8.917881    45.868261    12.969405    14.320497    10.619480   \n",
       "min       1.000000     0.000000     0.000000     0.000000     0.000000   \n",
       "25%       8.000000    19.000000     5.000000     1.000000     6.000000   \n",
       "50%      16.000000    64.000000    12.000000    12.000000    14.000000   \n",
       "75%      24.000000   107.000000    22.000000    25.000000    24.000000   \n",
       "max      31.000000   180.000000   100.000000    50.000000    40.000000   \n",
       "\n",
       "             Total  CarCount_Normed  BikeCount_Normed  BusCount_Normed  \\\n",
       "count  2944.000000      2944.000000       2944.000000      2944.000000   \n",
       "mean    114.033288         0.381120          0.149684         0.304851   \n",
       "std      60.162168         0.254787          0.129696         0.286078   \n",
       "min      21.000000         0.000000          0.000000         0.000000   \n",
       "25%      55.000000         0.105556          0.050000         0.020000   \n",
       "50%     108.000000         0.355556          0.120000         0.240000   \n",
       "75%     164.000000         0.594444          0.220000         0.500000   \n",
       "max     279.000000         1.000000          1.000000         1.000000   \n",
       "\n",
       "       TruckCount_Normed  CarCount_Normed  BikeCount_Normed  BusCount_Normed  \\\n",
       "count        2944.000000      2960.000000       2960.000000      2960.000000   \n",
       "mean            0.383076         0.381188          0.149709         0.305216   \n",
       "std             0.265401         0.254683          0.129536         0.286225   \n",
       "min             0.000000         0.000000          0.000000         0.000000   \n",
       "25%             0.150000         0.105556          0.050000         0.020000   \n",
       "50%             0.350000         0.355556          0.120000         0.240000   \n",
       "75%             0.600000         0.594444          0.220000         0.500000   \n",
       "max             1.000000         1.000000          1.000000         1.000000   \n",
       "\n",
       "       TruckCount_Normed  \n",
       "count        2960.000000  \n",
       "mean            0.383150  \n",
       "std             0.265447  \n",
       "min             0.000000  \n",
       "25%             0.150000  \n",
       "50%             0.350000  \n",
       "75%             0.581250  \n",
       "max             1.000000  "
      ]
     },
     "execution_count": 158,
     "metadata": {},
     "output_type": "execute_result"
    }
   ],
   "source": [
    "# Gestion de toutes les autres valeurs manquantes du df:\n",
    "df_traffic.dropna(inplace=True)\n",
    "from sklearn.preprocessing import MinMaxScaler\n",
    "\n",
    "# Initialisation de l'objet de normalisation\n",
    "scaler = MinMaxScaler()\n",
    "\n",
    "# Sélection des colonnes à normaliser\n",
    "columns_to_normalize = ['CarCount', 'BikeCount', 'BusCount', 'TruckCount']\n",
    "\n",
    "# Application de la normalisation sur les colonnes sélectionnées\n",
    "df_traffic_normalized = scaler.fit_transform(df_traffic[columns_to_normalize])\n",
    "\n",
    "# Conversion du résultat en DataFrame et ajout d'un suffixe aux noms des colonnes\n",
    "df_traffic_normalized = pd.DataFrame(df_traffic_normalized, columns=[col + '_Normed' for col in columns_to_normalize])\n",
    "\n",
    "# Concaténation des colonnes normalisées avec le DataFrame original\n",
    "df_traffic = pd.concat([df_traffic, df_traffic_normalized], axis=1)\n",
    "\n",
    "# Vérification des résultats\n",
    "df_traffic.head()\n",
    "df_traffic.describe()"
   ]
  },
  {
   "cell_type": "markdown",
   "id": "f4aa7d9e",
   "metadata": {},
   "source": "#### 7 : La variable `Total` : \n"
  },
  {
   "cell_type": "code",
   "execution_count": 157,
   "id": "8ff4adac",
   "metadata": {},
   "outputs": [
    {
     "data": {
      "image/png": "[encoded data removed]",
      "text/plain": [
       "<Figure size 640x480 with 1 Axes>"
      ]
     },
     "metadata": {},
     "output_type": "display_data"
    }
   ],
   "source": [
    "# Histogramme classique\n",
    "plt.hist(df_traffic['Total'], bins=25)\n",
    "plt.show()\n",
    "\n",
    "\n"
   ]
  },
  {
   "cell_type": "code",
   "execution_count": 138,
   "id": "175dd8af",
   "metadata": {},
   "outputs": [
    {
     "data": {
      "image/png": "[encoded data removed]",
      "text/plain": [
       "<Figure size 640x480 with 1 Axes>"
      ]
     },
     "metadata": {},
     "output_type": "display_data"
    }
   ],
   "source": [
    "import matplotlib.pyplot as plt\n",
    "from sklearn.preprocessing import KBinsDiscretizer\n",
    "\n",
    "\n",
    "# Remplacer les valeurs NaN par la médiane\n",
    "df_traffic['Total'].fillna(df_traffic['Total'].median(), inplace=True)\n",
    "\n",
    "# Initialisation de la discrétisation basée sur les k-means\n",
    "kbins = KBinsDiscretizer(n_bins=25, encode='ordinal', strategy='kmeans')\n",
    "\n",
    "# Application de la discrétisation sur la colonne 'Total'\n",
    "df_traffic['Total_binned'] = kbins.fit_transform(df_traffic[['Total']])\n",
    "\n",
    "# Affichage de l'histogramme des données discrétisées\n",
    "plt.hist(df_traffic['Total_binned'], bins=25, edgecolor='black')\n",
    "plt.xlabel('Binned Total')\n",
    "plt.ylabel('Frequency')\n",
    "plt.title('Histogram of Total with K-Means Binning')\n",
    "plt.show()\n"
   ]
  },
  {
   "cell_type": "markdown",
   "id": "17700a70",
   "metadata": {},
   "source": "#### 8 : Stockage en X et X_normed"
  },
  {
   "cell_type": "code",
   "execution_count": 139,
   "id": "87429ba4",
   "metadata": {},
   "outputs": [],
   "source": [
    "X = df_traffic[['CarCount', 'BikeCount', 'BusCount', 'TruckCount']].values\n",
    "X_normed = df_traffic[['CarCount_Normed', 'BikeCount_Normed', 'BusCount_Normed', 'TruckCount_Normed']].values\n"
   ]
  },
  {
   "cell_type": "markdown",
   "id": "93d5ad3b",
   "metadata": {},
   "source": "#### 9 : stockage de la situation de traffic après l'avoir encodée de façon numérique"
  },
  {
   "cell_type": "code",
   "execution_count": 140,
   "id": "cf68fad1",
   "metadata": {},
   "outputs": [],
   "source": [
    "from sklearn.preprocessing import LabelEncoder\n",
    "\n",
    "encoder = LabelEncoder()\n",
    "y = encoder.fit_transform(df_traffic['Traffic Situation'])\n"
   ]
  },
  {
   "cell_type": "markdown",
   "id": "76dd0f7e",
   "metadata": {},
   "source": "#### 10 : un premier modèle de machine learning\n"
  },
  {
   "cell_type": "code",
   "execution_count": 141,
   "id": "273400c4",
   "metadata": {},
   "outputs": [],
   "source": [
    "from sklearn.model_selection import train_test_split\n",
    "from sklearn.discriminant_analysis import LinearDiscriminantAnalysis\n",
    "from sklearn.metrics import accuracy_score\n",
    "\n",
    "# Split en train et test\n",
    "X_train, X_test, y_train, y_test = train_test_split(X, y, test_size=0.3, random_state=42)\n",
    "\n",
    "\n"
   ]
  },
  {
   "cell_type": "code",
   "execution_count": 142,
   "id": "03162264",
   "metadata": {},
   "outputs": [
    {
     "ename": "ValueError",
     "evalue": "Input X contains NaN.\nLinearDiscriminantAnalysis does not accept missing values encoded as NaN natively. For supervised learning, you might want to consider sklearn.ensemble.HistGradientBoostingClassifier and Regressor which accept missing values encoded as NaNs natively. Alternatively, it is possible to preprocess the data, for instance by using an imputer transformer in a pipeline or drop samples with missing values. See https://scikit-learn.org/stable/modules/impute.html You can find a list of all estimators that handle NaN values at the following page: https://scikit-learn.org/stable/modules/impute.html#estimators-that-handle-nan-values",
     "output_type": "error",
     "traceback": [
      "\u001B[1;31m---------------------------------------------------------------------------\u001B[0m",
      "\u001B[1;31mValueError\u001B[0m                                Traceback (most recent call last)",
      "Cell \u001B[1;32mIn[142], line 3\u001B[0m\n\u001B[0;32m      1\u001B[0m \u001B[38;5;66;03m# instanciation , entrainement, et prediction avec le modèle\u001B[39;00m\n\u001B[0;32m      2\u001B[0m model_lda \u001B[38;5;241m=\u001B[39m LinearDiscriminantAnalysis()\n\u001B[1;32m----> 3\u001B[0m model_lda\u001B[38;5;241m.\u001B[39mfit(X_train, y_train)\n\u001B[0;32m      4\u001B[0m y_pred_lda \u001B[38;5;241m=\u001B[39m model_lda\u001B[38;5;241m.\u001B[39mpredict(X_test)\n",
      "File \u001B[1;32mC:\\ProgramData\\anaconda3\\Lib\\site-packages\\sklearn\\base.py:1151\u001B[0m, in \u001B[0;36m_fit_context.<locals>.decorator.<locals>.wrapper\u001B[1;34m(estimator, *args, **kwargs)\u001B[0m\n\u001B[0;32m   1144\u001B[0m     estimator\u001B[38;5;241m.\u001B[39m_validate_params()\n\u001B[0;32m   1146\u001B[0m \u001B[38;5;28;01mwith\u001B[39;00m config_context(\n\u001B[0;32m   1147\u001B[0m     skip_parameter_validation\u001B[38;5;241m=\u001B[39m(\n\u001B[0;32m   1148\u001B[0m         prefer_skip_nested_validation \u001B[38;5;129;01mor\u001B[39;00m global_skip_validation\n\u001B[0;32m   1149\u001B[0m     )\n\u001B[0;32m   1150\u001B[0m ):\n\u001B[1;32m-> 1151\u001B[0m     \u001B[38;5;28;01mreturn\u001B[39;00m fit_method(estimator, \u001B[38;5;241m*\u001B[39margs, \u001B[38;5;241m*\u001B[39m\u001B[38;5;241m*\u001B[39mkwargs)\n",
      "File \u001B[1;32mC:\\ProgramData\\anaconda3\\Lib\\site-packages\\sklearn\\discriminant_analysis.py:581\u001B[0m, in \u001B[0;36mLinearDiscriminantAnalysis.fit\u001B[1;34m(self, X, y)\u001B[0m\n\u001B[0;32m    558\u001B[0m \u001B[38;5;250m\u001B[39m\u001B[38;5;124;03m\"\"\"Fit the Linear Discriminant Analysis model.\u001B[39;00m\n\u001B[0;32m    559\u001B[0m \n\u001B[0;32m    560\u001B[0m \u001B[38;5;124;03m   .. versionchanged:: 0.19\u001B[39;00m\n\u001B[1;32m   (...)\u001B[0m\n\u001B[0;32m    577\u001B[0m \u001B[38;5;124;03m    Fitted estimator.\u001B[39;00m\n\u001B[0;32m    578\u001B[0m \u001B[38;5;124;03m\"\"\"\u001B[39;00m\n\u001B[0;32m    579\u001B[0m xp, _ \u001B[38;5;241m=\u001B[39m get_namespace(X)\n\u001B[1;32m--> 581\u001B[0m X, y \u001B[38;5;241m=\u001B[39m \u001B[38;5;28mself\u001B[39m\u001B[38;5;241m.\u001B[39m_validate_data(\n\u001B[0;32m    582\u001B[0m     X, y, ensure_min_samples\u001B[38;5;241m=\u001B[39m\u001B[38;5;241m2\u001B[39m, dtype\u001B[38;5;241m=\u001B[39m[xp\u001B[38;5;241m.\u001B[39mfloat64, xp\u001B[38;5;241m.\u001B[39mfloat32]\n\u001B[0;32m    583\u001B[0m )\n\u001B[0;32m    584\u001B[0m \u001B[38;5;28mself\u001B[39m\u001B[38;5;241m.\u001B[39mclasses_ \u001B[38;5;241m=\u001B[39m unique_labels(y)\n\u001B[0;32m    585\u001B[0m n_samples, _ \u001B[38;5;241m=\u001B[39m X\u001B[38;5;241m.\u001B[39mshape\n",
      "File \u001B[1;32mC:\\ProgramData\\anaconda3\\Lib\\site-packages\\sklearn\\base.py:621\u001B[0m, in \u001B[0;36mBaseEstimator._validate_data\u001B[1;34m(self, X, y, reset, validate_separately, cast_to_ndarray, **check_params)\u001B[0m\n\u001B[0;32m    619\u001B[0m         y \u001B[38;5;241m=\u001B[39m check_array(y, input_name\u001B[38;5;241m=\u001B[39m\u001B[38;5;124m\"\u001B[39m\u001B[38;5;124my\u001B[39m\u001B[38;5;124m\"\u001B[39m, \u001B[38;5;241m*\u001B[39m\u001B[38;5;241m*\u001B[39mcheck_y_params)\n\u001B[0;32m    620\u001B[0m     \u001B[38;5;28;01melse\u001B[39;00m:\n\u001B[1;32m--> 621\u001B[0m         X, y \u001B[38;5;241m=\u001B[39m check_X_y(X, y, \u001B[38;5;241m*\u001B[39m\u001B[38;5;241m*\u001B[39mcheck_params)\n\u001B[0;32m    622\u001B[0m     out \u001B[38;5;241m=\u001B[39m X, y\n\u001B[0;32m    624\u001B[0m \u001B[38;5;28;01mif\u001B[39;00m \u001B[38;5;129;01mnot\u001B[39;00m no_val_X \u001B[38;5;129;01mand\u001B[39;00m check_params\u001B[38;5;241m.\u001B[39mget(\u001B[38;5;124m\"\u001B[39m\u001B[38;5;124mensure_2d\u001B[39m\u001B[38;5;124m\"\u001B[39m, \u001B[38;5;28;01mTrue\u001B[39;00m):\n",
      "File \u001B[1;32mC:\\ProgramData\\anaconda3\\Lib\\site-packages\\sklearn\\utils\\validation.py:1147\u001B[0m, in \u001B[0;36mcheck_X_y\u001B[1;34m(X, y, accept_sparse, accept_large_sparse, dtype, order, copy, force_all_finite, ensure_2d, allow_nd, multi_output, ensure_min_samples, ensure_min_features, y_numeric, estimator)\u001B[0m\n\u001B[0;32m   1142\u001B[0m         estimator_name \u001B[38;5;241m=\u001B[39m _check_estimator_name(estimator)\n\u001B[0;32m   1143\u001B[0m     \u001B[38;5;28;01mraise\u001B[39;00m \u001B[38;5;167;01mValueError\u001B[39;00m(\n\u001B[0;32m   1144\u001B[0m         \u001B[38;5;124mf\u001B[39m\u001B[38;5;124m\"\u001B[39m\u001B[38;5;132;01m{\u001B[39;00mestimator_name\u001B[38;5;132;01m}\u001B[39;00m\u001B[38;5;124m requires y to be passed, but the target y is None\u001B[39m\u001B[38;5;124m\"\u001B[39m\n\u001B[0;32m   1145\u001B[0m     )\n\u001B[1;32m-> 1147\u001B[0m X \u001B[38;5;241m=\u001B[39m check_array(\n\u001B[0;32m   1148\u001B[0m     X,\n\u001B[0;32m   1149\u001B[0m     accept_sparse\u001B[38;5;241m=\u001B[39maccept_sparse,\n\u001B[0;32m   1150\u001B[0m     accept_large_sparse\u001B[38;5;241m=\u001B[39maccept_large_sparse,\n\u001B[0;32m   1151\u001B[0m     dtype\u001B[38;5;241m=\u001B[39mdtype,\n\u001B[0;32m   1152\u001B[0m     order\u001B[38;5;241m=\u001B[39morder,\n\u001B[0;32m   1153\u001B[0m     copy\u001B[38;5;241m=\u001B[39mcopy,\n\u001B[0;32m   1154\u001B[0m     force_all_finite\u001B[38;5;241m=\u001B[39mforce_all_finite,\n\u001B[0;32m   1155\u001B[0m     ensure_2d\u001B[38;5;241m=\u001B[39mensure_2d,\n\u001B[0;32m   1156\u001B[0m     allow_nd\u001B[38;5;241m=\u001B[39mallow_nd,\n\u001B[0;32m   1157\u001B[0m     ensure_min_samples\u001B[38;5;241m=\u001B[39mensure_min_samples,\n\u001B[0;32m   1158\u001B[0m     ensure_min_features\u001B[38;5;241m=\u001B[39mensure_min_features,\n\u001B[0;32m   1159\u001B[0m     estimator\u001B[38;5;241m=\u001B[39mestimator,\n\u001B[0;32m   1160\u001B[0m     input_name\u001B[38;5;241m=\u001B[39m\u001B[38;5;124m\"\u001B[39m\u001B[38;5;124mX\u001B[39m\u001B[38;5;124m\"\u001B[39m,\n\u001B[0;32m   1161\u001B[0m )\n\u001B[0;32m   1163\u001B[0m y \u001B[38;5;241m=\u001B[39m _check_y(y, multi_output\u001B[38;5;241m=\u001B[39mmulti_output, y_numeric\u001B[38;5;241m=\u001B[39my_numeric, estimator\u001B[38;5;241m=\u001B[39mestimator)\n\u001B[0;32m   1165\u001B[0m check_consistent_length(X, y)\n",
      "File \u001B[1;32mC:\\ProgramData\\anaconda3\\Lib\\site-packages\\sklearn\\utils\\validation.py:959\u001B[0m, in \u001B[0;36mcheck_array\u001B[1;34m(array, accept_sparse, accept_large_sparse, dtype, order, copy, force_all_finite, ensure_2d, allow_nd, ensure_min_samples, ensure_min_features, estimator, input_name)\u001B[0m\n\u001B[0;32m    953\u001B[0m         \u001B[38;5;28;01mraise\u001B[39;00m \u001B[38;5;167;01mValueError\u001B[39;00m(\n\u001B[0;32m    954\u001B[0m             \u001B[38;5;124m\"\u001B[39m\u001B[38;5;124mFound array with dim \u001B[39m\u001B[38;5;132;01m%d\u001B[39;00m\u001B[38;5;124m. \u001B[39m\u001B[38;5;132;01m%s\u001B[39;00m\u001B[38;5;124m expected <= 2.\u001B[39m\u001B[38;5;124m\"\u001B[39m\n\u001B[0;32m    955\u001B[0m             \u001B[38;5;241m%\u001B[39m (array\u001B[38;5;241m.\u001B[39mndim, estimator_name)\n\u001B[0;32m    956\u001B[0m         )\n\u001B[0;32m    958\u001B[0m     \u001B[38;5;28;01mif\u001B[39;00m force_all_finite:\n\u001B[1;32m--> 959\u001B[0m         _assert_all_finite(\n\u001B[0;32m    960\u001B[0m             array,\n\u001B[0;32m    961\u001B[0m             input_name\u001B[38;5;241m=\u001B[39minput_name,\n\u001B[0;32m    962\u001B[0m             estimator_name\u001B[38;5;241m=\u001B[39mestimator_name,\n\u001B[0;32m    963\u001B[0m             allow_nan\u001B[38;5;241m=\u001B[39mforce_all_finite \u001B[38;5;241m==\u001B[39m \u001B[38;5;124m\"\u001B[39m\u001B[38;5;124mallow-nan\u001B[39m\u001B[38;5;124m\"\u001B[39m,\n\u001B[0;32m    964\u001B[0m         )\n\u001B[0;32m    966\u001B[0m \u001B[38;5;28;01mif\u001B[39;00m ensure_min_samples \u001B[38;5;241m>\u001B[39m \u001B[38;5;241m0\u001B[39m:\n\u001B[0;32m    967\u001B[0m     n_samples \u001B[38;5;241m=\u001B[39m _num_samples(array)\n",
      "File \u001B[1;32mC:\\ProgramData\\anaconda3\\Lib\\site-packages\\sklearn\\utils\\validation.py:124\u001B[0m, in \u001B[0;36m_assert_all_finite\u001B[1;34m(X, allow_nan, msg_dtype, estimator_name, input_name)\u001B[0m\n\u001B[0;32m    121\u001B[0m \u001B[38;5;28;01mif\u001B[39;00m first_pass_isfinite:\n\u001B[0;32m    122\u001B[0m     \u001B[38;5;28;01mreturn\u001B[39;00m\n\u001B[1;32m--> 124\u001B[0m _assert_all_finite_element_wise(\n\u001B[0;32m    125\u001B[0m     X,\n\u001B[0;32m    126\u001B[0m     xp\u001B[38;5;241m=\u001B[39mxp,\n\u001B[0;32m    127\u001B[0m     allow_nan\u001B[38;5;241m=\u001B[39mallow_nan,\n\u001B[0;32m    128\u001B[0m     msg_dtype\u001B[38;5;241m=\u001B[39mmsg_dtype,\n\u001B[0;32m    129\u001B[0m     estimator_name\u001B[38;5;241m=\u001B[39mestimator_name,\n\u001B[0;32m    130\u001B[0m     input_name\u001B[38;5;241m=\u001B[39minput_name,\n\u001B[0;32m    131\u001B[0m )\n",
      "File \u001B[1;32mC:\\ProgramData\\anaconda3\\Lib\\site-packages\\sklearn\\utils\\validation.py:173\u001B[0m, in \u001B[0;36m_assert_all_finite_element_wise\u001B[1;34m(X, xp, allow_nan, msg_dtype, estimator_name, input_name)\u001B[0m\n\u001B[0;32m    156\u001B[0m \u001B[38;5;28;01mif\u001B[39;00m estimator_name \u001B[38;5;129;01mand\u001B[39;00m input_name \u001B[38;5;241m==\u001B[39m \u001B[38;5;124m\"\u001B[39m\u001B[38;5;124mX\u001B[39m\u001B[38;5;124m\"\u001B[39m \u001B[38;5;129;01mand\u001B[39;00m has_nan_error:\n\u001B[0;32m    157\u001B[0m     \u001B[38;5;66;03m# Improve the error message on how to handle missing values in\u001B[39;00m\n\u001B[0;32m    158\u001B[0m     \u001B[38;5;66;03m# scikit-learn.\u001B[39;00m\n\u001B[0;32m    159\u001B[0m     msg_err \u001B[38;5;241m+\u001B[39m\u001B[38;5;241m=\u001B[39m (\n\u001B[0;32m    160\u001B[0m         \u001B[38;5;124mf\u001B[39m\u001B[38;5;124m\"\u001B[39m\u001B[38;5;130;01m\\n\u001B[39;00m\u001B[38;5;132;01m{\u001B[39;00mestimator_name\u001B[38;5;132;01m}\u001B[39;00m\u001B[38;5;124m does not accept missing values\u001B[39m\u001B[38;5;124m\"\u001B[39m\n\u001B[0;32m    161\u001B[0m         \u001B[38;5;124m\"\u001B[39m\u001B[38;5;124m encoded as NaN natively. For supervised learning, you might want\u001B[39m\u001B[38;5;124m\"\u001B[39m\n\u001B[1;32m   (...)\u001B[0m\n\u001B[0;32m    171\u001B[0m         \u001B[38;5;124m\"\u001B[39m\u001B[38;5;124m#estimators-that-handle-nan-values\u001B[39m\u001B[38;5;124m\"\u001B[39m\n\u001B[0;32m    172\u001B[0m     )\n\u001B[1;32m--> 173\u001B[0m \u001B[38;5;28;01mraise\u001B[39;00m \u001B[38;5;167;01mValueError\u001B[39;00m(msg_err)\n",
      "\u001B[1;31mValueError\u001B[0m: Input X contains NaN.\nLinearDiscriminantAnalysis does not accept missing values encoded as NaN natively. For supervised learning, you might want to consider sklearn.ensemble.HistGradientBoostingClassifier and Regressor which accept missing values encoded as NaNs natively. Alternatively, it is possible to preprocess the data, for instance by using an imputer transformer in a pipeline or drop samples with missing values. See https://scikit-learn.org/stable/modules/impute.html You can find a list of all estimators that handle NaN values at the following page: https://scikit-learn.org/stable/modules/impute.html#estimators-that-handle-nan-values"
     ]
    }
   ],
   "source": [
    "# instanciation , entrainement, et prediction avec le modèle\n",
    "model_lda = LinearDiscriminantAnalysis()\n",
    "model_lda.fit(X_train, y_train)\n",
    "y_pred_lda = model_lda.predict(X_test)"
   ]
  },
  {
   "cell_type": "code",
   "execution_count": 143,
   "id": "db0ffc0b",
   "metadata": {},
   "outputs": [
    {
     "ename": "ValueError",
     "evalue": "Found input variables with inconsistent numbers of samples: [893, 888]",
     "output_type": "error",
     "traceback": [
      "\u001B[1;31m---------------------------------------------------------------------------\u001B[0m",
      "\u001B[1;31mValueError\u001B[0m                                Traceback (most recent call last)",
      "Cell \u001B[1;32mIn[143], line 2\u001B[0m\n\u001B[0;32m      1\u001B[0m \u001B[38;5;66;03m# évaluation de la performance du modèle avec la métrique accuracy\u001B[39;00m\n\u001B[1;32m----> 2\u001B[0m accuracy \u001B[38;5;241m=\u001B[39m accuracy_score(y_test, y_pred_lda)\n\u001B[0;32m      3\u001B[0m \u001B[38;5;28mprint\u001B[39m()\n",
      "File \u001B[1;32mC:\\ProgramData\\anaconda3\\Lib\\site-packages\\sklearn\\utils\\_param_validation.py:211\u001B[0m, in \u001B[0;36mvalidate_params.<locals>.decorator.<locals>.wrapper\u001B[1;34m(*args, **kwargs)\u001B[0m\n\u001B[0;32m    205\u001B[0m \u001B[38;5;28;01mtry\u001B[39;00m:\n\u001B[0;32m    206\u001B[0m     \u001B[38;5;28;01mwith\u001B[39;00m config_context(\n\u001B[0;32m    207\u001B[0m         skip_parameter_validation\u001B[38;5;241m=\u001B[39m(\n\u001B[0;32m    208\u001B[0m             prefer_skip_nested_validation \u001B[38;5;129;01mor\u001B[39;00m global_skip_validation\n\u001B[0;32m    209\u001B[0m         )\n\u001B[0;32m    210\u001B[0m     ):\n\u001B[1;32m--> 211\u001B[0m         \u001B[38;5;28;01mreturn\u001B[39;00m func(\u001B[38;5;241m*\u001B[39margs, \u001B[38;5;241m*\u001B[39m\u001B[38;5;241m*\u001B[39mkwargs)\n\u001B[0;32m    212\u001B[0m \u001B[38;5;28;01mexcept\u001B[39;00m InvalidParameterError \u001B[38;5;28;01mas\u001B[39;00m e:\n\u001B[0;32m    213\u001B[0m     \u001B[38;5;66;03m# When the function is just a wrapper around an estimator, we allow\u001B[39;00m\n\u001B[0;32m    214\u001B[0m     \u001B[38;5;66;03m# the function to delegate validation to the estimator, but we replace\u001B[39;00m\n\u001B[0;32m    215\u001B[0m     \u001B[38;5;66;03m# the name of the estimator by the name of the function in the error\u001B[39;00m\n\u001B[0;32m    216\u001B[0m     \u001B[38;5;66;03m# message to avoid confusion.\u001B[39;00m\n\u001B[0;32m    217\u001B[0m     msg \u001B[38;5;241m=\u001B[39m re\u001B[38;5;241m.\u001B[39msub(\n\u001B[0;32m    218\u001B[0m         \u001B[38;5;124mr\u001B[39m\u001B[38;5;124m\"\u001B[39m\u001B[38;5;124mparameter of \u001B[39m\u001B[38;5;124m\\\u001B[39m\u001B[38;5;124mw+ must be\u001B[39m\u001B[38;5;124m\"\u001B[39m,\n\u001B[0;32m    219\u001B[0m         \u001B[38;5;124mf\u001B[39m\u001B[38;5;124m\"\u001B[39m\u001B[38;5;124mparameter of \u001B[39m\u001B[38;5;132;01m{\u001B[39;00mfunc\u001B[38;5;241m.\u001B[39m\u001B[38;5;18m__qualname__\u001B[39m\u001B[38;5;132;01m}\u001B[39;00m\u001B[38;5;124m must be\u001B[39m\u001B[38;5;124m\"\u001B[39m,\n\u001B[0;32m    220\u001B[0m         \u001B[38;5;28mstr\u001B[39m(e),\n\u001B[0;32m    221\u001B[0m     )\n",
      "File \u001B[1;32mC:\\ProgramData\\anaconda3\\Lib\\site-packages\\sklearn\\metrics\\_classification.py:220\u001B[0m, in \u001B[0;36maccuracy_score\u001B[1;34m(y_true, y_pred, normalize, sample_weight)\u001B[0m\n\u001B[0;32m    154\u001B[0m \u001B[38;5;250m\u001B[39m\u001B[38;5;124;03m\"\"\"Accuracy classification score.\u001B[39;00m\n\u001B[0;32m    155\u001B[0m \n\u001B[0;32m    156\u001B[0m \u001B[38;5;124;03mIn multilabel classification, this function computes subset accuracy:\u001B[39;00m\n\u001B[1;32m   (...)\u001B[0m\n\u001B[0;32m    216\u001B[0m \u001B[38;5;124;03m0.5\u001B[39;00m\n\u001B[0;32m    217\u001B[0m \u001B[38;5;124;03m\"\"\"\u001B[39;00m\n\u001B[0;32m    219\u001B[0m \u001B[38;5;66;03m# Compute accuracy for each possible representation\u001B[39;00m\n\u001B[1;32m--> 220\u001B[0m y_type, y_true, y_pred \u001B[38;5;241m=\u001B[39m _check_targets(y_true, y_pred)\n\u001B[0;32m    221\u001B[0m check_consistent_length(y_true, y_pred, sample_weight)\n\u001B[0;32m    222\u001B[0m \u001B[38;5;28;01mif\u001B[39;00m y_type\u001B[38;5;241m.\u001B[39mstartswith(\u001B[38;5;124m\"\u001B[39m\u001B[38;5;124mmultilabel\u001B[39m\u001B[38;5;124m\"\u001B[39m):\n",
      "File \u001B[1;32mC:\\ProgramData\\anaconda3\\Lib\\site-packages\\sklearn\\metrics\\_classification.py:84\u001B[0m, in \u001B[0;36m_check_targets\u001B[1;34m(y_true, y_pred)\u001B[0m\n\u001B[0;32m     57\u001B[0m \u001B[38;5;28;01mdef\u001B[39;00m \u001B[38;5;21m_check_targets\u001B[39m(y_true, y_pred):\n\u001B[0;32m     58\u001B[0m \u001B[38;5;250m    \u001B[39m\u001B[38;5;124;03m\"\"\"Check that y_true and y_pred belong to the same classification task.\u001B[39;00m\n\u001B[0;32m     59\u001B[0m \n\u001B[0;32m     60\u001B[0m \u001B[38;5;124;03m    This converts multiclass or binary types to a common shape, and raises a\u001B[39;00m\n\u001B[1;32m   (...)\u001B[0m\n\u001B[0;32m     82\u001B[0m \u001B[38;5;124;03m    y_pred : array or indicator matrix\u001B[39;00m\n\u001B[0;32m     83\u001B[0m \u001B[38;5;124;03m    \"\"\"\u001B[39;00m\n\u001B[1;32m---> 84\u001B[0m     check_consistent_length(y_true, y_pred)\n\u001B[0;32m     85\u001B[0m     type_true \u001B[38;5;241m=\u001B[39m type_of_target(y_true, input_name\u001B[38;5;241m=\u001B[39m\u001B[38;5;124m\"\u001B[39m\u001B[38;5;124my_true\u001B[39m\u001B[38;5;124m\"\u001B[39m)\n\u001B[0;32m     86\u001B[0m     type_pred \u001B[38;5;241m=\u001B[39m type_of_target(y_pred, input_name\u001B[38;5;241m=\u001B[39m\u001B[38;5;124m\"\u001B[39m\u001B[38;5;124my_pred\u001B[39m\u001B[38;5;124m\"\u001B[39m)\n",
      "File \u001B[1;32mC:\\ProgramData\\anaconda3\\Lib\\site-packages\\sklearn\\utils\\validation.py:409\u001B[0m, in \u001B[0;36mcheck_consistent_length\u001B[1;34m(*arrays)\u001B[0m\n\u001B[0;32m    407\u001B[0m uniques \u001B[38;5;241m=\u001B[39m np\u001B[38;5;241m.\u001B[39munique(lengths)\n\u001B[0;32m    408\u001B[0m \u001B[38;5;28;01mif\u001B[39;00m \u001B[38;5;28mlen\u001B[39m(uniques) \u001B[38;5;241m>\u001B[39m \u001B[38;5;241m1\u001B[39m:\n\u001B[1;32m--> 409\u001B[0m     \u001B[38;5;28;01mraise\u001B[39;00m \u001B[38;5;167;01mValueError\u001B[39;00m(\n\u001B[0;32m    410\u001B[0m         \u001B[38;5;124m\"\u001B[39m\u001B[38;5;124mFound input variables with inconsistent numbers of samples: \u001B[39m\u001B[38;5;132;01m%r\u001B[39;00m\u001B[38;5;124m\"\u001B[39m\n\u001B[0;32m    411\u001B[0m         \u001B[38;5;241m%\u001B[39m [\u001B[38;5;28mint\u001B[39m(l) \u001B[38;5;28;01mfor\u001B[39;00m l \u001B[38;5;129;01min\u001B[39;00m lengths]\n\u001B[0;32m    412\u001B[0m     )\n",
      "\u001B[1;31mValueError\u001B[0m: Found input variables with inconsistent numbers of samples: [893, 888]"
     ]
    }
   ],
   "source": [
    "# évaluation de la performance du modèle avec la métrique accuracy\n",
    "accuracy = accuracy_score(y_test, y_pred_lda)\n",
    "print()"
   ]
  },
  {
   "cell_type": "markdown",
   "id": "69937f01",
   "metadata": {},
   "source": "#### 11 : Idem mais avec les variables normalisées ?"
  },
  {
   "cell_type": "code",
   "execution_count": 144,
   "id": "061a85bb",
   "metadata": {},
   "outputs": [
    {
     "ename": "ValueError",
     "evalue": "Input X contains NaN.\nLinearDiscriminantAnalysis does not accept missing values encoded as NaN natively. For supervised learning, you might want to consider sklearn.ensemble.HistGradientBoostingClassifier and Regressor which accept missing values encoded as NaNs natively. Alternatively, it is possible to preprocess the data, for instance by using an imputer transformer in a pipeline or drop samples with missing values. See https://scikit-learn.org/stable/modules/impute.html You can find a list of all estimators that handle NaN values at the following page: https://scikit-learn.org/stable/modules/impute.html#estimators-that-handle-nan-values",
     "output_type": "error",
     "traceback": [
      "\u001B[1;31m---------------------------------------------------------------------------\u001B[0m",
      "\u001B[1;31mValueError\u001B[0m                                Traceback (most recent call last)",
      "Cell \u001B[1;32mIn[144], line 3\u001B[0m\n\u001B[0;32m      1\u001B[0m X_train_normed, X_test_normed, y_train, y_test \u001B[38;5;241m=\u001B[39m train_test_split(X_normed, y, test_size\u001B[38;5;241m=\u001B[39m\u001B[38;5;241m0.3\u001B[39m, random_state\u001B[38;5;241m=\u001B[39m\u001B[38;5;241m42\u001B[39m)\n\u001B[0;32m      2\u001B[0m model_lda_normed \u001B[38;5;241m=\u001B[39m LinearDiscriminantAnalysis()\n\u001B[1;32m----> 3\u001B[0m model_lda_normed\u001B[38;5;241m.\u001B[39mfit(X_train_normed, y_train)\n\u001B[0;32m      4\u001B[0m y_pred_lda_normed \u001B[38;5;241m=\u001B[39m model_lda_normed\u001B[38;5;241m.\u001B[39mpredict(X_test_normed)\n\u001B[0;32m      5\u001B[0m \u001B[38;5;28mprint\u001B[39m(accuracy_score(y_test, y_pred_lda_normed))\n",
      "File \u001B[1;32mC:\\ProgramData\\anaconda3\\Lib\\site-packages\\sklearn\\base.py:1151\u001B[0m, in \u001B[0;36m_fit_context.<locals>.decorator.<locals>.wrapper\u001B[1;34m(estimator, *args, **kwargs)\u001B[0m\n\u001B[0;32m   1144\u001B[0m     estimator\u001B[38;5;241m.\u001B[39m_validate_params()\n\u001B[0;32m   1146\u001B[0m \u001B[38;5;28;01mwith\u001B[39;00m config_context(\n\u001B[0;32m   1147\u001B[0m     skip_parameter_validation\u001B[38;5;241m=\u001B[39m(\n\u001B[0;32m   1148\u001B[0m         prefer_skip_nested_validation \u001B[38;5;129;01mor\u001B[39;00m global_skip_validation\n\u001B[0;32m   1149\u001B[0m     )\n\u001B[0;32m   1150\u001B[0m ):\n\u001B[1;32m-> 1151\u001B[0m     \u001B[38;5;28;01mreturn\u001B[39;00m fit_method(estimator, \u001B[38;5;241m*\u001B[39margs, \u001B[38;5;241m*\u001B[39m\u001B[38;5;241m*\u001B[39mkwargs)\n",
      "File \u001B[1;32mC:\\ProgramData\\anaconda3\\Lib\\site-packages\\sklearn\\discriminant_analysis.py:581\u001B[0m, in \u001B[0;36mLinearDiscriminantAnalysis.fit\u001B[1;34m(self, X, y)\u001B[0m\n\u001B[0;32m    558\u001B[0m \u001B[38;5;250m\u001B[39m\u001B[38;5;124;03m\"\"\"Fit the Linear Discriminant Analysis model.\u001B[39;00m\n\u001B[0;32m    559\u001B[0m \n\u001B[0;32m    560\u001B[0m \u001B[38;5;124;03m   .. versionchanged:: 0.19\u001B[39;00m\n\u001B[1;32m   (...)\u001B[0m\n\u001B[0;32m    577\u001B[0m \u001B[38;5;124;03m    Fitted estimator.\u001B[39;00m\n\u001B[0;32m    578\u001B[0m \u001B[38;5;124;03m\"\"\"\u001B[39;00m\n\u001B[0;32m    579\u001B[0m xp, _ \u001B[38;5;241m=\u001B[39m get_namespace(X)\n\u001B[1;32m--> 581\u001B[0m X, y \u001B[38;5;241m=\u001B[39m \u001B[38;5;28mself\u001B[39m\u001B[38;5;241m.\u001B[39m_validate_data(\n\u001B[0;32m    582\u001B[0m     X, y, ensure_min_samples\u001B[38;5;241m=\u001B[39m\u001B[38;5;241m2\u001B[39m, dtype\u001B[38;5;241m=\u001B[39m[xp\u001B[38;5;241m.\u001B[39mfloat64, xp\u001B[38;5;241m.\u001B[39mfloat32]\n\u001B[0;32m    583\u001B[0m )\n\u001B[0;32m    584\u001B[0m \u001B[38;5;28mself\u001B[39m\u001B[38;5;241m.\u001B[39mclasses_ \u001B[38;5;241m=\u001B[39m unique_labels(y)\n\u001B[0;32m    585\u001B[0m n_samples, _ \u001B[38;5;241m=\u001B[39m X\u001B[38;5;241m.\u001B[39mshape\n",
      "File \u001B[1;32mC:\\ProgramData\\anaconda3\\Lib\\site-packages\\sklearn\\base.py:621\u001B[0m, in \u001B[0;36mBaseEstimator._validate_data\u001B[1;34m(self, X, y, reset, validate_separately, cast_to_ndarray, **check_params)\u001B[0m\n\u001B[0;32m    619\u001B[0m         y \u001B[38;5;241m=\u001B[39m check_array(y, input_name\u001B[38;5;241m=\u001B[39m\u001B[38;5;124m\"\u001B[39m\u001B[38;5;124my\u001B[39m\u001B[38;5;124m\"\u001B[39m, \u001B[38;5;241m*\u001B[39m\u001B[38;5;241m*\u001B[39mcheck_y_params)\n\u001B[0;32m    620\u001B[0m     \u001B[38;5;28;01melse\u001B[39;00m:\n\u001B[1;32m--> 621\u001B[0m         X, y \u001B[38;5;241m=\u001B[39m check_X_y(X, y, \u001B[38;5;241m*\u001B[39m\u001B[38;5;241m*\u001B[39mcheck_params)\n\u001B[0;32m    622\u001B[0m     out \u001B[38;5;241m=\u001B[39m X, y\n\u001B[0;32m    624\u001B[0m \u001B[38;5;28;01mif\u001B[39;00m \u001B[38;5;129;01mnot\u001B[39;00m no_val_X \u001B[38;5;129;01mand\u001B[39;00m check_params\u001B[38;5;241m.\u001B[39mget(\u001B[38;5;124m\"\u001B[39m\u001B[38;5;124mensure_2d\u001B[39m\u001B[38;5;124m\"\u001B[39m, \u001B[38;5;28;01mTrue\u001B[39;00m):\n",
      "File \u001B[1;32mC:\\ProgramData\\anaconda3\\Lib\\site-packages\\sklearn\\utils\\validation.py:1147\u001B[0m, in \u001B[0;36mcheck_X_y\u001B[1;34m(X, y, accept_sparse, accept_large_sparse, dtype, order, copy, force_all_finite, ensure_2d, allow_nd, multi_output, ensure_min_samples, ensure_min_features, y_numeric, estimator)\u001B[0m\n\u001B[0;32m   1142\u001B[0m         estimator_name \u001B[38;5;241m=\u001B[39m _check_estimator_name(estimator)\n\u001B[0;32m   1143\u001B[0m     \u001B[38;5;28;01mraise\u001B[39;00m \u001B[38;5;167;01mValueError\u001B[39;00m(\n\u001B[0;32m   1144\u001B[0m         \u001B[38;5;124mf\u001B[39m\u001B[38;5;124m\"\u001B[39m\u001B[38;5;132;01m{\u001B[39;00mestimator_name\u001B[38;5;132;01m}\u001B[39;00m\u001B[38;5;124m requires y to be passed, but the target y is None\u001B[39m\u001B[38;5;124m\"\u001B[39m\n\u001B[0;32m   1145\u001B[0m     )\n\u001B[1;32m-> 1147\u001B[0m X \u001B[38;5;241m=\u001B[39m check_array(\n\u001B[0;32m   1148\u001B[0m     X,\n\u001B[0;32m   1149\u001B[0m     accept_sparse\u001B[38;5;241m=\u001B[39maccept_sparse,\n\u001B[0;32m   1150\u001B[0m     accept_large_sparse\u001B[38;5;241m=\u001B[39maccept_large_sparse,\n\u001B[0;32m   1151\u001B[0m     dtype\u001B[38;5;241m=\u001B[39mdtype,\n\u001B[0;32m   1152\u001B[0m     order\u001B[38;5;241m=\u001B[39morder,\n\u001B[0;32m   1153\u001B[0m     copy\u001B[38;5;241m=\u001B[39mcopy,\n\u001B[0;32m   1154\u001B[0m     force_all_finite\u001B[38;5;241m=\u001B[39mforce_all_finite,\n\u001B[0;32m   1155\u001B[0m     ensure_2d\u001B[38;5;241m=\u001B[39mensure_2d,\n\u001B[0;32m   1156\u001B[0m     allow_nd\u001B[38;5;241m=\u001B[39mallow_nd,\n\u001B[0;32m   1157\u001B[0m     ensure_min_samples\u001B[38;5;241m=\u001B[39mensure_min_samples,\n\u001B[0;32m   1158\u001B[0m     ensure_min_features\u001B[38;5;241m=\u001B[39mensure_min_features,\n\u001B[0;32m   1159\u001B[0m     estimator\u001B[38;5;241m=\u001B[39mestimator,\n\u001B[0;32m   1160\u001B[0m     input_name\u001B[38;5;241m=\u001B[39m\u001B[38;5;124m\"\u001B[39m\u001B[38;5;124mX\u001B[39m\u001B[38;5;124m\"\u001B[39m,\n\u001B[0;32m   1161\u001B[0m )\n\u001B[0;32m   1163\u001B[0m y \u001B[38;5;241m=\u001B[39m _check_y(y, multi_output\u001B[38;5;241m=\u001B[39mmulti_output, y_numeric\u001B[38;5;241m=\u001B[39my_numeric, estimator\u001B[38;5;241m=\u001B[39mestimator)\n\u001B[0;32m   1165\u001B[0m check_consistent_length(X, y)\n",
      "File \u001B[1;32mC:\\ProgramData\\anaconda3\\Lib\\site-packages\\sklearn\\utils\\validation.py:959\u001B[0m, in \u001B[0;36mcheck_array\u001B[1;34m(array, accept_sparse, accept_large_sparse, dtype, order, copy, force_all_finite, ensure_2d, allow_nd, ensure_min_samples, ensure_min_features, estimator, input_name)\u001B[0m\n\u001B[0;32m    953\u001B[0m         \u001B[38;5;28;01mraise\u001B[39;00m \u001B[38;5;167;01mValueError\u001B[39;00m(\n\u001B[0;32m    954\u001B[0m             \u001B[38;5;124m\"\u001B[39m\u001B[38;5;124mFound array with dim \u001B[39m\u001B[38;5;132;01m%d\u001B[39;00m\u001B[38;5;124m. \u001B[39m\u001B[38;5;132;01m%s\u001B[39;00m\u001B[38;5;124m expected <= 2.\u001B[39m\u001B[38;5;124m\"\u001B[39m\n\u001B[0;32m    955\u001B[0m             \u001B[38;5;241m%\u001B[39m (array\u001B[38;5;241m.\u001B[39mndim, estimator_name)\n\u001B[0;32m    956\u001B[0m         )\n\u001B[0;32m    958\u001B[0m     \u001B[38;5;28;01mif\u001B[39;00m force_all_finite:\n\u001B[1;32m--> 959\u001B[0m         _assert_all_finite(\n\u001B[0;32m    960\u001B[0m             array,\n\u001B[0;32m    961\u001B[0m             input_name\u001B[38;5;241m=\u001B[39minput_name,\n\u001B[0;32m    962\u001B[0m             estimator_name\u001B[38;5;241m=\u001B[39mestimator_name,\n\u001B[0;32m    963\u001B[0m             allow_nan\u001B[38;5;241m=\u001B[39mforce_all_finite \u001B[38;5;241m==\u001B[39m \u001B[38;5;124m\"\u001B[39m\u001B[38;5;124mallow-nan\u001B[39m\u001B[38;5;124m\"\u001B[39m,\n\u001B[0;32m    964\u001B[0m         )\n\u001B[0;32m    966\u001B[0m \u001B[38;5;28;01mif\u001B[39;00m ensure_min_samples \u001B[38;5;241m>\u001B[39m \u001B[38;5;241m0\u001B[39m:\n\u001B[0;32m    967\u001B[0m     n_samples \u001B[38;5;241m=\u001B[39m _num_samples(array)\n",
      "File \u001B[1;32mC:\\ProgramData\\anaconda3\\Lib\\site-packages\\sklearn\\utils\\validation.py:124\u001B[0m, in \u001B[0;36m_assert_all_finite\u001B[1;34m(X, allow_nan, msg_dtype, estimator_name, input_name)\u001B[0m\n\u001B[0;32m    121\u001B[0m \u001B[38;5;28;01mif\u001B[39;00m first_pass_isfinite:\n\u001B[0;32m    122\u001B[0m     \u001B[38;5;28;01mreturn\u001B[39;00m\n\u001B[1;32m--> 124\u001B[0m _assert_all_finite_element_wise(\n\u001B[0;32m    125\u001B[0m     X,\n\u001B[0;32m    126\u001B[0m     xp\u001B[38;5;241m=\u001B[39mxp,\n\u001B[0;32m    127\u001B[0m     allow_nan\u001B[38;5;241m=\u001B[39mallow_nan,\n\u001B[0;32m    128\u001B[0m     msg_dtype\u001B[38;5;241m=\u001B[39mmsg_dtype,\n\u001B[0;32m    129\u001B[0m     estimator_name\u001B[38;5;241m=\u001B[39mestimator_name,\n\u001B[0;32m    130\u001B[0m     input_name\u001B[38;5;241m=\u001B[39minput_name,\n\u001B[0;32m    131\u001B[0m )\n",
      "File \u001B[1;32mC:\\ProgramData\\anaconda3\\Lib\\site-packages\\sklearn\\utils\\validation.py:173\u001B[0m, in \u001B[0;36m_assert_all_finite_element_wise\u001B[1;34m(X, xp, allow_nan, msg_dtype, estimator_name, input_name)\u001B[0m\n\u001B[0;32m    156\u001B[0m \u001B[38;5;28;01mif\u001B[39;00m estimator_name \u001B[38;5;129;01mand\u001B[39;00m input_name \u001B[38;5;241m==\u001B[39m \u001B[38;5;124m\"\u001B[39m\u001B[38;5;124mX\u001B[39m\u001B[38;5;124m\"\u001B[39m \u001B[38;5;129;01mand\u001B[39;00m has_nan_error:\n\u001B[0;32m    157\u001B[0m     \u001B[38;5;66;03m# Improve the error message on how to handle missing values in\u001B[39;00m\n\u001B[0;32m    158\u001B[0m     \u001B[38;5;66;03m# scikit-learn.\u001B[39;00m\n\u001B[0;32m    159\u001B[0m     msg_err \u001B[38;5;241m+\u001B[39m\u001B[38;5;241m=\u001B[39m (\n\u001B[0;32m    160\u001B[0m         \u001B[38;5;124mf\u001B[39m\u001B[38;5;124m\"\u001B[39m\u001B[38;5;130;01m\\n\u001B[39;00m\u001B[38;5;132;01m{\u001B[39;00mestimator_name\u001B[38;5;132;01m}\u001B[39;00m\u001B[38;5;124m does not accept missing values\u001B[39m\u001B[38;5;124m\"\u001B[39m\n\u001B[0;32m    161\u001B[0m         \u001B[38;5;124m\"\u001B[39m\u001B[38;5;124m encoded as NaN natively. For supervised learning, you might want\u001B[39m\u001B[38;5;124m\"\u001B[39m\n\u001B[1;32m   (...)\u001B[0m\n\u001B[0;32m    171\u001B[0m         \u001B[38;5;124m\"\u001B[39m\u001B[38;5;124m#estimators-that-handle-nan-values\u001B[39m\u001B[38;5;124m\"\u001B[39m\n\u001B[0;32m    172\u001B[0m     )\n\u001B[1;32m--> 173\u001B[0m \u001B[38;5;28;01mraise\u001B[39;00m \u001B[38;5;167;01mValueError\u001B[39;00m(msg_err)\n",
      "\u001B[1;31mValueError\u001B[0m: Input X contains NaN.\nLinearDiscriminantAnalysis does not accept missing values encoded as NaN natively. For supervised learning, you might want to consider sklearn.ensemble.HistGradientBoostingClassifier and Regressor which accept missing values encoded as NaNs natively. Alternatively, it is possible to preprocess the data, for instance by using an imputer transformer in a pipeline or drop samples with missing values. See https://scikit-learn.org/stable/modules/impute.html You can find a list of all estimators that handle NaN values at the following page: https://scikit-learn.org/stable/modules/impute.html#estimators-that-handle-nan-values"
     ]
    }
   ],
   "source": [
    "X_train_normed, X_test_normed, y_train, y_test = train_test_split(X_normed, y, test_size=0.3, random_state=42)\n",
    "model_lda_normed = LinearDiscriminantAnalysis()\n",
    "model_lda_normed.fit(X_train_normed, y_train)\n",
    "y_pred_lda_normed = model_lda_normed.predict(X_test_normed)\n",
    "print(accuracy_score(y_test, y_pred_lda_normed))"
   ]
  },
  {
   "cell_type": "markdown",
   "id": "cf79da77",
   "metadata": {},
   "source": "**Commentaire** : avec les variables normalisées , le modèle prédit mieux les labels "
  },
  {
   "cell_type": "markdown",
   "id": "8fb00197",
   "metadata": {},
   "source": "## Fake News Détection\n"
  },
  {
   "cell_type": "markdown",
   "id": "2894033a",
   "metadata": {},
   "source": "#### 12 : Import dataset"
  },
  {
   "cell_type": "code",
   "execution_count": 38,
   "id": "539e5a2f",
   "metadata": {},
   "outputs": [
    {
     "data": {
      "text/html": [
       "<div>\n",
       "<style scoped>\n",
       "    .dataframe tbody tr th:only-of-type {\n",
       "        vertical-align: middle;\n",
       "    }\n",
       "\n",
       "    .dataframe tbody tr th {\n",
       "        vertical-align: top;\n",
       "    }\n",
       "\n",
       "    .dataframe thead th {\n",
       "        text-align: right;\n",
       "    }\n",
       "</style>\n",
       "<table border=\"1\" class=\"dataframe\">\n",
       "  <thead>\n",
       "    <tr style=\"text-align: right;\">\n",
       "      <th></th>\n",
       "      <th>Unnamed: 0</th>\n",
       "      <th>title</th>\n",
       "      <th>text</th>\n",
       "      <th>label</th>\n",
       "    </tr>\n",
       "  </thead>\n",
       "  <tbody>\n",
       "    <tr>\n",
       "      <th>0</th>\n",
       "      <td>8476</td>\n",
       "      <td>You Can Smell Hillary’s Fear</td>\n",
       "      <td>Daniel Greenfield, a Shillman Journalism Fello...</td>\n",
       "      <td>FAKE</td>\n",
       "    </tr>\n",
       "    <tr>\n",
       "      <th>1</th>\n",
       "      <td>10294</td>\n",
       "      <td>Watch The Exact Moment Paul Ryan Committed Pol...</td>\n",
       "      <td>Google Pinterest Digg Linkedin Reddit Stumbleu...</td>\n",
       "      <td>FAKE</td>\n",
       "    </tr>\n",
       "    <tr>\n",
       "      <th>2</th>\n",
       "      <td>3608</td>\n",
       "      <td>Kerry to go to Paris in gesture of sympathy</td>\n",
       "      <td>U.S. Secretary of State John F. Kerry said Mon...</td>\n",
       "      <td>REAL</td>\n",
       "    </tr>\n",
       "    <tr>\n",
       "      <th>3</th>\n",
       "      <td>10142</td>\n",
       "      <td>Bernie supporters on Twitter erupt in anger ag...</td>\n",
       "      <td>— Kaydee King (@KaydeeKing) November 9, 2016 T...</td>\n",
       "      <td>FAKE</td>\n",
       "    </tr>\n",
       "    <tr>\n",
       "      <th>4</th>\n",
       "      <td>875</td>\n",
       "      <td>The Battle of New York: Why This Primary Matters</td>\n",
       "      <td>It's primary day in New York and front-runners...</td>\n",
       "      <td>REAL</td>\n",
       "    </tr>\n",
       "  </tbody>\n",
       "</table>\n",
       "</div>"
      ],
      "text/plain": [
       "   Unnamed: 0                                              title  \\\n",
       "0        8476                       You Can Smell Hillary’s Fear   \n",
       "1       10294  Watch The Exact Moment Paul Ryan Committed Pol...   \n",
       "2        3608        Kerry to go to Paris in gesture of sympathy   \n",
       "3       10142  Bernie supporters on Twitter erupt in anger ag...   \n",
       "4         875   The Battle of New York: Why This Primary Matters   \n",
       "\n",
       "                                                text label  \n",
       "0  Daniel Greenfield, a Shillman Journalism Fello...  FAKE  \n",
       "1  Google Pinterest Digg Linkedin Reddit Stumbleu...  FAKE  \n",
       "2  U.S. Secretary of State John F. Kerry said Mon...  REAL  \n",
       "3  — Kaydee King (@KaydeeKing) November 9, 2016 T...  FAKE  \n",
       "4  It's primary day in New York and front-runners...  REAL  "
      ]
     },
     "execution_count": 38,
     "metadata": {},
     "output_type": "execute_result"
    }
   ],
   "source": [
    "news = pd.read_csv('./data/news.csv')\n",
    "news.head()"
   ]
  },
  {
   "cell_type": "markdown",
   "id": "27ecadb9",
   "metadata": {},
   "source": "#### 13 : Renomez les colonnes en Id, Title, Text, Label"
  },
  {
   "cell_type": "code",
   "execution_count": 39,
   "id": "aa960b4f",
   "metadata": {},
   "outputs": [
    {
     "data": {
      "text/html": [
       "<div>\n",
       "<style scoped>\n",
       "    .dataframe tbody tr th:only-of-type {\n",
       "        vertical-align: middle;\n",
       "    }\n",
       "\n",
       "    .dataframe tbody tr th {\n",
       "        vertical-align: top;\n",
       "    }\n",
       "\n",
       "    .dataframe thead th {\n",
       "        text-align: right;\n",
       "    }\n",
       "</style>\n",
       "<table border=\"1\" class=\"dataframe\">\n",
       "  <thead>\n",
       "    <tr style=\"text-align: right;\">\n",
       "      <th></th>\n",
       "      <th>id</th>\n",
       "      <th>Title</th>\n",
       "      <th>Text</th>\n",
       "      <th>Label</th>\n",
       "    </tr>\n",
       "  </thead>\n",
       "  <tbody>\n",
       "    <tr>\n",
       "      <th>0</th>\n",
       "      <td>8476</td>\n",
       "      <td>You Can Smell Hillary’s Fear</td>\n",
       "      <td>Daniel Greenfield, a Shillman Journalism Fello...</td>\n",
       "      <td>FAKE</td>\n",
       "    </tr>\n",
       "    <tr>\n",
       "      <th>1</th>\n",
       "      <td>10294</td>\n",
       "      <td>Watch The Exact Moment Paul Ryan Committed Pol...</td>\n",
       "      <td>Google Pinterest Digg Linkedin Reddit Stumbleu...</td>\n",
       "      <td>FAKE</td>\n",
       "    </tr>\n",
       "    <tr>\n",
       "      <th>2</th>\n",
       "      <td>3608</td>\n",
       "      <td>Kerry to go to Paris in gesture of sympathy</td>\n",
       "      <td>U.S. Secretary of State John F. Kerry said Mon...</td>\n",
       "      <td>REAL</td>\n",
       "    </tr>\n",
       "    <tr>\n",
       "      <th>3</th>\n",
       "      <td>10142</td>\n",
       "      <td>Bernie supporters on Twitter erupt in anger ag...</td>\n",
       "      <td>— Kaydee King (@KaydeeKing) November 9, 2016 T...</td>\n",
       "      <td>FAKE</td>\n",
       "    </tr>\n",
       "    <tr>\n",
       "      <th>4</th>\n",
       "      <td>875</td>\n",
       "      <td>The Battle of New York: Why This Primary Matters</td>\n",
       "      <td>It's primary day in New York and front-runners...</td>\n",
       "      <td>REAL</td>\n",
       "    </tr>\n",
       "  </tbody>\n",
       "</table>\n",
       "</div>"
      ],
      "text/plain": [
       "      id                                              Title  \\\n",
       "0   8476                       You Can Smell Hillary’s Fear   \n",
       "1  10294  Watch The Exact Moment Paul Ryan Committed Pol...   \n",
       "2   3608        Kerry to go to Paris in gesture of sympathy   \n",
       "3  10142  Bernie supporters on Twitter erupt in anger ag...   \n",
       "4    875   The Battle of New York: Why This Primary Matters   \n",
       "\n",
       "                                                Text Label  \n",
       "0  Daniel Greenfield, a Shillman Journalism Fello...  FAKE  \n",
       "1  Google Pinterest Digg Linkedin Reddit Stumbleu...  FAKE  \n",
       "2  U.S. Secretary of State John F. Kerry said Mon...  REAL  \n",
       "3  — Kaydee King (@KaydeeKing) November 9, 2016 T...  FAKE  \n",
       "4  It's primary day in New York and front-runners...  REAL  "
      ]
     },
     "execution_count": 39,
     "metadata": {},
     "output_type": "execute_result"
    }
   ],
   "source": [
    "# renommage\n",
    "news.columns = ['id','Title', 'Text', 'Label']\n",
    "news.head()"
   ]
  },
  {
   "cell_type": "markdown",
   "id": "75098cf9",
   "metadata": {},
   "source": "#### 14 : Vérification et transformtions"
  },
  {
   "cell_type": "code",
   "execution_count": 45,
   "id": "e9237bc2",
   "metadata": {},
   "outputs": [
    {
     "name": "stdout",
     "output_type": "stream",
     "text": [
      "id       0\n",
      "Title    0\n",
      "Text     0\n",
      "Label    0\n",
      "dtype: int64\n"
     ]
    }
   ],
   "source": [
    "# Vérification des valeurs manquantes\n",
    "print(news.isnull().sum())\n",
    "\n"
   ]
  },
  {
   "cell_type": "code",
   "execution_count": null,
   "id": "93bf4ef8",
   "metadata": {},
   "outputs": [],
   "source": [
    "# Pas de valeurs manquantes"
   ]
  },
  {
   "cell_type": "code",
   "execution_count": 46,
   "id": "244f9812",
   "metadata": {},
   "outputs": [],
   "source": [
    "# Transformation en minuscules\n",
    "news['Text_cleaned'] = news['Text'].str.lower()\n"
   ]
  },
  {
   "cell_type": "code",
   "execution_count": 47,
   "id": "61438996",
   "metadata": {},
   "outputs": [
    {
     "data": {
      "text/html": [
       "<div>\n",
       "<style scoped>\n",
       "    .dataframe tbody tr th:only-of-type {\n",
       "        vertical-align: middle;\n",
       "    }\n",
       "\n",
       "    .dataframe tbody tr th {\n",
       "        vertical-align: top;\n",
       "    }\n",
       "\n",
       "    .dataframe thead th {\n",
       "        text-align: right;\n",
       "    }\n",
       "</style>\n",
       "<table border=\"1\" class=\"dataframe\">\n",
       "  <thead>\n",
       "    <tr style=\"text-align: right;\">\n",
       "      <th></th>\n",
       "      <th>id</th>\n",
       "      <th>Title</th>\n",
       "      <th>Text</th>\n",
       "      <th>Label</th>\n",
       "      <th>Text_cleaned</th>\n",
       "    </tr>\n",
       "  </thead>\n",
       "  <tbody>\n",
       "    <tr>\n",
       "      <th>0</th>\n",
       "      <td>8476</td>\n",
       "      <td>You Can Smell Hillary’s Fear</td>\n",
       "      <td>Daniel Greenfield, a Shillman Journalism Fello...</td>\n",
       "      <td>FAKE</td>\n",
       "      <td>daniel greenfield, a shillman journalism fello...</td>\n",
       "    </tr>\n",
       "    <tr>\n",
       "      <th>1</th>\n",
       "      <td>10294</td>\n",
       "      <td>Watch The Exact Moment Paul Ryan Committed Pol...</td>\n",
       "      <td>Google Pinterest Digg Linkedin Reddit Stumbleu...</td>\n",
       "      <td>FAKE</td>\n",
       "      <td>google pinterest digg linkedin reddit stumbleu...</td>\n",
       "    </tr>\n",
       "    <tr>\n",
       "      <th>2</th>\n",
       "      <td>3608</td>\n",
       "      <td>Kerry to go to Paris in gesture of sympathy</td>\n",
       "      <td>U.S. Secretary of State John F. Kerry said Mon...</td>\n",
       "      <td>REAL</td>\n",
       "      <td>u.s. secretary of state john f. kerry said mon...</td>\n",
       "    </tr>\n",
       "    <tr>\n",
       "      <th>3</th>\n",
       "      <td>10142</td>\n",
       "      <td>Bernie supporters on Twitter erupt in anger ag...</td>\n",
       "      <td>— Kaydee King (@KaydeeKing) November 9, 2016 T...</td>\n",
       "      <td>FAKE</td>\n",
       "      <td>— kaydee king (@kaydeeking) november 9, 2016 t...</td>\n",
       "    </tr>\n",
       "    <tr>\n",
       "      <th>4</th>\n",
       "      <td>875</td>\n",
       "      <td>The Battle of New York: Why This Primary Matters</td>\n",
       "      <td>It's primary day in New York and front-runners...</td>\n",
       "      <td>REAL</td>\n",
       "      <td>it's primary day in new york and front-runners...</td>\n",
       "    </tr>\n",
       "  </tbody>\n",
       "</table>\n",
       "</div>"
      ],
      "text/plain": [
       "      id                                              Title  \\\n",
       "0   8476                       You Can Smell Hillary’s Fear   \n",
       "1  10294  Watch The Exact Moment Paul Ryan Committed Pol...   \n",
       "2   3608        Kerry to go to Paris in gesture of sympathy   \n",
       "3  10142  Bernie supporters on Twitter erupt in anger ag...   \n",
       "4    875   The Battle of New York: Why This Primary Matters   \n",
       "\n",
       "                                                Text Label  \\\n",
       "0  Daniel Greenfield, a Shillman Journalism Fello...  FAKE   \n",
       "1  Google Pinterest Digg Linkedin Reddit Stumbleu...  FAKE   \n",
       "2  U.S. Secretary of State John F. Kerry said Mon...  REAL   \n",
       "3  — Kaydee King (@KaydeeKing) November 9, 2016 T...  FAKE   \n",
       "4  It's primary day in New York and front-runners...  REAL   \n",
       "\n",
       "                                        Text_cleaned  \n",
       "0  daniel greenfield, a shillman journalism fello...  \n",
       "1  google pinterest digg linkedin reddit stumbleu...  \n",
       "2  u.s. secretary of state john f. kerry said mon...  \n",
       "3  — kaydee king (@kaydeeking) november 9, 2016 t...  \n",
       "4  it's primary day in new york and front-runners...  "
      ]
     },
     "execution_count": 47,
     "metadata": {},
     "output_type": "execute_result"
    }
   ],
   "source": [
    "news.head()"
   ]
  },
  {
   "cell_type": "markdown",
   "id": "c4cb3e1f",
   "metadata": {},
   "source": "#### 15 : traitements du langage naturel\n"
  },
  {
   "cell_type": "code",
   "execution_count": null,
   "id": "5883acc6",
   "metadata": {},
   "outputs": [],
   "source": [
    "# tokeniser et afficher les 70 premiers token"
   ]
  },
  {
   "cell_type": "code",
   "execution_count": 48,
   "id": "9cec92a5",
   "metadata": {},
   "outputs": [
    {
     "name": "stdout",
     "output_type": "stream",
     "text": [
      "70 premiers tokens: ['november', '13', ',', '2016', 'by', '21wire', 'leave', 'a', 'comment', 'episode', '#', '160', 'of', 'sunday', 'wire', 'show', 'resumes', 'this', 'november', '13', ',', '2016', 'as', 'host', 'patrick', 'henningsen', 'brings', 'a', '3', 'hours', 'special', 'broadcast', 'of', 'live', 'power-packed', 'talk', 'radio', 'on', 'acr…', 'listen', 'live', 'on', 'this', 'page', 'at', 'the', 'following', 'scheduled', 'show', 'times', ':', 'sundays', '–', '5pm-8pm', 'uk', 'time', '|', '12pm-3pm', 'et', '(', 'us', ')', '|', '9am-12pm', 'pt', '(', 'us', ')', 'this', 'week']\n"
     ]
    }
   ],
   "source": [
    "import nltk\n",
    "from nltk.tokenize import word_tokenize\n",
    "from nltk.corpus import stopwords\n",
    "from nltk.stem import WordNetLemmatizer\n",
    "import string\n",
    "\n",
    "\n",
    "# Tokenisation\n",
    "text = news.loc[21, 'Text_cleaned']\n",
    "tokens = word_tokenize(text)\n",
    "print(\"70 premiers tokens:\", tokens[:70])\n",
    "\n",
    "\n",
    "\n",
    "\n",
    "\n"
   ]
  },
  {
   "cell_type": "code",
   "execution_count": 49,
   "id": "407661b6",
   "metadata": {},
   "outputs": [
    {
     "name": "stdout",
     "output_type": "stream",
     "text": [
      "70 premiers tokens (après nettoyage): ['november', 'by', 'leave', 'a', 'comment', 'episode', 'of', 'sunday', 'wire', 'show', 'resumes', 'this', 'november', 'as', 'host', 'patrick', 'henningsen', 'brings', 'a', 'hours', 'special', 'broadcast', 'of', 'live', 'talk', 'radio', 'on', 'listen', 'live', 'on', 'this', 'page', 'at', 'the', 'following', 'scheduled', 'show', 'times', 'sundays', 'uk', 'time', 'et', 'us', 'pt', 'us', 'this', 'week', 's', 'edition', 'of', 'the', 'sunday', 'wire', 'is', 'on', 'the', 'road', 'broadcasting', 'live', 'from', 'the', 'valley', 'of', 'the', 'sun', 'this', 'week', 'host', 'patrick', 'henningsen']\n"
     ]
    }
   ],
   "source": [
    "# Enlever la ponctuation et les non-alphabétiques\n",
    "tokens = [word for word in tokens if word.isalpha()]\n",
    "print(\"70 premiers tokens (après nettoyage):\", tokens[:70])\n"
   ]
  },
  {
   "cell_type": "code",
   "execution_count": 50,
   "id": "4b03c506",
   "metadata": {},
   "outputs": [
    {
     "name": "stdout",
     "output_type": "stream",
     "text": [
      "70 premiers tokens (après enlever stop words): ['november', 'leave', 'comment', 'episode', 'sunday', 'wire', 'show', 'resumes', 'november', 'host', 'patrick', 'henningsen', 'brings', 'hours', 'special', 'broadcast', 'live', 'talk', 'radio', 'listen', 'live', 'page', 'following', 'scheduled', 'show', 'times', 'sundays', 'uk', 'time', 'et', 'us', 'pt', 'us', 'week', 'edition', 'sunday', 'wire', 'road', 'broadcasting', 'live', 'valley', 'sun', 'week', 'host', 'patrick', 'henningsen', 'covers', 'week', 'top', 'stories', 'us', 'internationally', 'first', 'hour', 'conduct', 'incredible', 'us', 'election', 'produced', 'president', 'elect', 'donald', 'trump', 'aftermath', 'nation', 'divided', 'punctuated', 'numerous', 'street', 'protests']\n"
     ]
    }
   ],
   "source": [
    "# Enlever les stop words et les tokens d'un seul caractère\n",
    "stop_words = set(stopwords.words('english'))\n",
    "tokens = [word for word in tokens if word not in stop_words and len(word) > 1]\n",
    "print(\"70 premiers tokens (après enlever stop words):\", tokens[:70])"
   ]
  },
  {
   "cell_type": "code",
   "execution_count": 51,
   "id": "7cbfb8ec",
   "metadata": {},
   "outputs": [
    {
     "name": "stdout",
     "output_type": "stream",
     "text": [
      "70 premiers tokens (après lemmatisation): ['november', 'leave', 'comment', 'episode', 'sunday', 'wire', 'show', 'resume', 'november', 'host', 'patrick', 'henningsen', 'brings', 'hour', 'special', 'broadcast', 'live', 'talk', 'radio', 'listen', 'live', 'page', 'following', 'scheduled', 'show', 'time', 'sunday', 'uk', 'time', 'et', 'u', 'pt', 'u', 'week', 'edition', 'sunday', 'wire', 'road', 'broadcasting', 'live', 'valley', 'sun', 'week', 'host', 'patrick', 'henningsen', 'cover', 'week', 'top', 'story', 'u', 'internationally', 'first', 'hour', 'conduct', 'incredible', 'u', 'election', 'produced', 'president', 'elect', 'donald', 'trump', 'aftermath', 'nation', 'divided', 'punctuated', 'numerous', 'street', 'protest']\n"
     ]
    }
   ],
   "source": [
    "# Lemmatisation\n",
    "lemmatizer = WordNetLemmatizer()\n",
    "lemmatized = [lemmatizer.lemmatize(word) for word in tokens]\n",
    "print(\"70 premiers tokens (après lemmatisation):\", lemmatized[:70])"
   ]
  },
  {
   "cell_type": "markdown",
   "id": "831e6212",
   "metadata": {},
   "source": [
    "**Commentaire ** :problème La lemmatisation a ramené le mot us à la lettre u\n",
    "\n",
    "\n"
   ]
  },
  {
   "cell_type": "code",
   "execution_count": null,
   "id": "4b662e25",
   "metadata": {},
   "outputs": [],
   "source": [
    "# solution , réappliquer la supression des mots d'une lettre en acceptant de sacrifier le mot us \n"
   ]
  },
  {
   "cell_type": "markdown",
   "id": "4409a21d",
   "metadata": {},
   "source": "#### 16 : Chaine de prétraitements appliquée à l'ensemble du corpus\n"
  },
  {
   "cell_type": "code",
   "execution_count": 52,
   "id": "d8deb337",
   "metadata": {},
   "outputs": [],
   "source": [
    "def preprocess_text_with_lemmatizer(text):\n",
    "    tokens = word_tokenize(text.lower())\n",
    "    tokens = [word for word in tokens if word.isalpha()]\n",
    "    tokens = [word for word in tokens if word not in stop_words and len(word) > 1]\n",
    "    lemmatized = [lemmatizer.lemmatize(word) for word in tokens]\n",
    "    return ' '.join(lemmatized)\n",
    "\n",
    "def preprocess_text_without_lemmatizer(text):\n",
    "    tokens = word_tokenize(text.lower())\n",
    "    tokens = [word for word in tokens if word.isalpha()]\n",
    "    tokens = [word for word in tokens if word not in stop_words and len(word) > 1]\n",
    "    return ' '.join(tokens)\n",
    "\n",
    "news['Text_cleaned'] = news['Text'].apply(preprocess_text_without_lemmatizer)\n",
    "news['Text_lemmatized'] = news['Text'].apply(preprocess_text_with_lemmatizer)\n"
   ]
  },
  {
   "cell_type": "code",
   "execution_count": 53,
   "id": "9b3abb62",
   "metadata": {},
   "outputs": [
    {
     "data": {
      "text/html": [
       "<div>\n",
       "<style scoped>\n",
       "    .dataframe tbody tr th:only-of-type {\n",
       "        vertical-align: middle;\n",
       "    }\n",
       "\n",
       "    .dataframe tbody tr th {\n",
       "        vertical-align: top;\n",
       "    }\n",
       "\n",
       "    .dataframe thead th {\n",
       "        text-align: right;\n",
       "    }\n",
       "</style>\n",
       "<table border=\"1\" class=\"dataframe\">\n",
       "  <thead>\n",
       "    <tr style=\"text-align: right;\">\n",
       "      <th></th>\n",
       "      <th>id</th>\n",
       "      <th>Title</th>\n",
       "      <th>Text</th>\n",
       "      <th>Label</th>\n",
       "      <th>Text_cleaned</th>\n",
       "      <th>Text_lemmatized</th>\n",
       "    </tr>\n",
       "  </thead>\n",
       "  <tbody>\n",
       "    <tr>\n",
       "      <th>0</th>\n",
       "      <td>8476</td>\n",
       "      <td>You Can Smell Hillary’s Fear</td>\n",
       "      <td>Daniel Greenfield, a Shillman Journalism Fello...</td>\n",
       "      <td>FAKE</td>\n",
       "      <td>daniel greenfield shillman journalism fellow f...</td>\n",
       "      <td>daniel greenfield shillman journalism fellow f...</td>\n",
       "    </tr>\n",
       "    <tr>\n",
       "      <th>1</th>\n",
       "      <td>10294</td>\n",
       "      <td>Watch The Exact Moment Paul Ryan Committed Pol...</td>\n",
       "      <td>Google Pinterest Digg Linkedin Reddit Stumbleu...</td>\n",
       "      <td>FAKE</td>\n",
       "      <td>google pinterest digg linkedin reddit stumbleu...</td>\n",
       "      <td>google pinterest digg linkedin reddit stumbleu...</td>\n",
       "    </tr>\n",
       "    <tr>\n",
       "      <th>2</th>\n",
       "      <td>3608</td>\n",
       "      <td>Kerry to go to Paris in gesture of sympathy</td>\n",
       "      <td>U.S. Secretary of State John F. Kerry said Mon...</td>\n",
       "      <td>REAL</td>\n",
       "      <td>secretary state john kerry said monday stop pa...</td>\n",
       "      <td>secretary state john kerry said monday stop pa...</td>\n",
       "    </tr>\n",
       "    <tr>\n",
       "      <th>3</th>\n",
       "      <td>10142</td>\n",
       "      <td>Bernie supporters on Twitter erupt in anger ag...</td>\n",
       "      <td>— Kaydee King (@KaydeeKing) November 9, 2016 T...</td>\n",
       "      <td>FAKE</td>\n",
       "      <td>kaydee king kaydeeking november lesson tonight...</td>\n",
       "      <td>kaydee king kaydeeking november lesson tonight...</td>\n",
       "    </tr>\n",
       "    <tr>\n",
       "      <th>4</th>\n",
       "      <td>875</td>\n",
       "      <td>The Battle of New York: Why This Primary Matters</td>\n",
       "      <td>It's primary day in New York and front-runners...</td>\n",
       "      <td>REAL</td>\n",
       "      <td>primary day new york hillary clinton donald tr...</td>\n",
       "      <td>primary day new york hillary clinton donald tr...</td>\n",
       "    </tr>\n",
       "  </tbody>\n",
       "</table>\n",
       "</div>"
      ],
      "text/plain": [
       "      id                                              Title  \\\n",
       "0   8476                       You Can Smell Hillary’s Fear   \n",
       "1  10294  Watch The Exact Moment Paul Ryan Committed Pol...   \n",
       "2   3608        Kerry to go to Paris in gesture of sympathy   \n",
       "3  10142  Bernie supporters on Twitter erupt in anger ag...   \n",
       "4    875   The Battle of New York: Why This Primary Matters   \n",
       "\n",
       "                                                Text Label  \\\n",
       "0  Daniel Greenfield, a Shillman Journalism Fello...  FAKE   \n",
       "1  Google Pinterest Digg Linkedin Reddit Stumbleu...  FAKE   \n",
       "2  U.S. Secretary of State John F. Kerry said Mon...  REAL   \n",
       "3  — Kaydee King (@KaydeeKing) November 9, 2016 T...  FAKE   \n",
       "4  It's primary day in New York and front-runners...  REAL   \n",
       "\n",
       "                                        Text_cleaned  \\\n",
       "0  daniel greenfield shillman journalism fellow f...   \n",
       "1  google pinterest digg linkedin reddit stumbleu...   \n",
       "2  secretary state john kerry said monday stop pa...   \n",
       "3  kaydee king kaydeeking november lesson tonight...   \n",
       "4  primary day new york hillary clinton donald tr...   \n",
       "\n",
       "                                     Text_lemmatized  \n",
       "0  daniel greenfield shillman journalism fellow f...  \n",
       "1  google pinterest digg linkedin reddit stumbleu...  \n",
       "2  secretary state john kerry said monday stop pa...  \n",
       "3  kaydee king kaydeeking november lesson tonight...  \n",
       "4  primary day new york hillary clinton donald tr...  "
      ]
     },
     "execution_count": 53,
     "metadata": {},
     "output_type": "execute_result"
    }
   ],
   "source": [
    "news.head()"
   ]
  },
  {
   "cell_type": "markdown",
   "id": "1e13cb96",
   "metadata": {},
   "source": "#### 17 : Matrice documents * termes avec la fréquence TF-IDF "
  },
  {
   "cell_type": "code",
   "execution_count": 56,
   "id": "4ffd5864",
   "metadata": {},
   "outputs": [
    {
     "name": "stdout",
     "output_type": "stream",
     "text": [
      "Nombre de termes dans le vocabulaire: 55072\n",
      "Dimensions de la matrice X: (6335, 55072)\n"
     ]
    }
   ],
   "source": [
    "from sklearn.feature_extraction.text import TfidfVectorizer\n",
    "\n",
    "# transformer en une liste de textes la colonne de textes\n",
    "X = news['Text_lemmatized'].tolist()\n",
    "\n",
    "vectorizer = TfidfVectorizer()\n",
    "X_transformed = vectorizer.fit_transform(X)\n",
    "print(\"Nombre de termes dans le vocabulaire:\", len(vectorizer.get_feature_names_out()))\n",
    "print(\"Dimensions de la matrice X:\", X_transformed.shape)\n"
   ]
  },
  {
   "cell_type": "markdown",
   "id": "5339f53f",
   "metadata": {},
   "source": "#### 18 :  encodage en en numérique des labels de chacune des nouvelles."
  },
  {
   "cell_type": "code",
   "execution_count": 58,
   "id": "b0be2da6",
   "metadata": {},
   "outputs": [],
   "source": [
    "from sklearn.preprocessing import LabelEncoder\n",
    "encoder = LabelEncoder()\n",
    "y_labellised = encoder.fit_transform(news['Label'])\n"
   ]
  },
  {
   "cell_type": "code",
   "execution_count": 64,
   "id": "c7ae1d12",
   "metadata": {},
   "outputs": [
    {
     "data": {
      "text/plain": [
       "1"
      ]
     },
     "execution_count": 64,
     "metadata": {},
     "output_type": "execute_result"
    }
   ],
   "source": [
    "y_labellised[2]"
   ]
  },
  {
   "cell_type": "markdown",
   "id": "51f56dfd",
   "metadata": {},
   "source": "#### 19 : Split en Train Test (avec une répartition 70%-30%). "
  },
  {
   "cell_type": "code",
   "execution_count": 60,
   "id": "c639ae6b",
   "metadata": {},
   "outputs": [],
   "source": [
    "X_train, X_test, y_train, y_test = train_test_split(X_transformed, y_labellised, test_size=0.3, random_state=42)"
   ]
  },
  {
   "cell_type": "markdown",
   "id": "1575ffb6",
   "metadata": {},
   "source": "#### 20 : Régression logisitique sur l'échantillon d'apprentissage."
  },
  {
   "cell_type": "code",
   "execution_count": 61,
   "id": "1e7bf814",
   "metadata": {},
   "outputs": [
    {
     "name": "stdout",
     "output_type": "stream",
     "text": [
      "Taux de succès (accuracy) : 0.9100473435034192\n"
     ]
    }
   ],
   "source": [
    "from sklearn.linear_model import LogisticRegression\n",
    "from sklearn.metrics import accuracy_score\n",
    "\n",
    "model_lr = LogisticRegression()\n",
    "model_lr.fit(X_train, y_train)\n",
    "y_pred = model_lr.predict(X_test)\n",
    "print(\"Taux de succès (accuracy) :\", accuracy_score(y_test, y_pred))\n"
   ]
  },
  {
   "cell_type": "markdown",
   "id": "1ccb5257",
   "metadata": {},
   "source": "#### 22 : recall score des labels"
  },
  {
   "cell_type": "code",
   "execution_count": 65,
   "id": "78876db0",
   "metadata": {},
   "outputs": [
    {
     "name": "stdout",
     "output_type": "stream",
     "text": [
      "Rappel pour les fake news: 0.9421487603305785\n",
      "Rappel pour les vraies nouvelles: 0.8767416934619507\n"
     ]
    }
   ],
   "source": [
    "from sklearn.metrics import recall_score\n",
    "\n",
    "# Calculez le rappel pour chaque classe\n",
    "\n",
    "recall_fake = recall_score(y_test, y_pred, pos_label=0)\n",
    "recall_real = recall_score(y_test, y_pred, pos_label=1)\n",
    "\n",
    "print(\"Rappel pour les fake news:\", recall_fake)\n",
    "print(\"Rappel pour les vraies nouvelles:\", recall_real)\n"
   ]
  },
  {
   "cell_type": "code",
   "execution_count": 66,
   "id": "a50d2ee9",
   "metadata": {},
   "outputs": [
    {
     "name": "stdout",
     "output_type": "stream",
     "text": [
      "Nombre de termes dans le vocabulaire: 55072\n"
     ]
    }
   ],
   "source": [
    "# Obtenir le nombre de variables du modèle\n",
    "nombre_de_termes = len(vectorizer.get_feature_names_out())\n",
    "print(\"Nombre de termes dans le vocabulaire:\", nombre_de_termes)"
   ]
  },
  {
   "cell_type": "markdown",
   "id": "f1c9cb96",
   "metadata": {},
   "source": [
    "**Réponses** : effectivement le modèle reconnait mieux les fake news.\n",
    " Le nombre de variables utilisées par le modèle correspond au nombre de termes dans le vocabulaire TF-IDF. Ces termes sont les variables du modèle.\n",
    "Rappel : il y a eu projection du texte sous forme de vecteur dans un espace dont la dimension est égale au nombre de mots uniques dans le corpus (le vocabulaire). Les coordonnées de chaque vecteur sont les poids TF-IDF de chaque mot dans le document ****"
   ]
  },
  {
   "cell_type": "markdown",
   "id": "02512938",
   "metadata": {},
   "source": [
    "#### 23 : Réduction d'espace\n",
    "\n",
    "Construire un modèle en retenant 1000, 5000, 10000 et 30000 variables."
   ]
  },
  {
   "cell_type": "code",
   "execution_count": 68,
   "id": "0f3331c9",
   "metadata": {},
   "outputs": [
    {
     "name": "stdout",
     "output_type": "stream",
     "text": [
      "Rappel avec 1000 caractéristiques: 0.9307851239669421\n",
      "Rappel avec 5000 caractéristiques: 0.9400826446280992\n",
      "Rappel avec 10000 caractéristiques: 0.9390495867768595\n",
      "Rappel avec 30000 caractéristiques: 0.9380165289256198\n"
     ]
    }
   ],
   "source": [
    "from sklearn.linear_model import LogisticRegression\n",
    "from sklearn.metrics import recall_score\n",
    "from sklearn.feature_selection import SelectKBest, f_classif\n",
    "\n",
    "\n",
    "for k in [1000, 5000, 10000, 30000]:\n",
    "    # Sélectionner les K meilleures caractéristiques\n",
    "    selector = SelectKBest(f_classif, k=k)\n",
    "    X_train_kbest = selector.fit_transform(X_train, y_train)\n",
    "    X_test_kbest = selector.transform(X_test)\n",
    "\n",
    "    # Créer et entraîner le modèle de régression logistique\n",
    "    model = LogisticRegression()\n",
    "    model.fit(X_train_kbest, y_train)\n",
    "\n",
    "    # Faire des prédictions sur l'ensemble de test\n",
    "    y_pred = model.predict(X_test_kbest)\n",
    "\n",
    "    # Calculer le rappel pour les fake news (supposons que 'fake' est encodé par 0)\n",
    "    recall = recall_score(y_test, y_pred, pos_label=0)\n",
    "    print(f\"Rappel avec {k} caractéristiques: {recall}\")\n",
    "\n"
   ]
  },
  {
   "cell_type": "markdown",
   "id": "06667081",
   "metadata": {},
   "source": [
    "**Conclusion** : nous avons les meilleurs résultats avec une séléction de 5000 mots dans le vocabulaire , 5000 semble être un bon nombre de variables significatives dans la prédiction de la véracité de la news...."
   ]
  }
 ],
 "metadata": {
  "kernelspec": {
   "display_name": "Python 3 (ipykernel)",
   "language": "python",
   "name": "python3"
  },
  "language_info": {
   "codemirror_mode": {
    "name": "ipython",
    "version": 3
   },
   "file_extension": ".py",
   "mimetype": "text/x-python",
   "name": "python",
   "nbconvert_exporter": "python",
   "pygments_lexer": "ipython3",
   "version": "3.11.4"
  }
 },
 "nbformat": 4,
 "nbformat_minor": 5
}
